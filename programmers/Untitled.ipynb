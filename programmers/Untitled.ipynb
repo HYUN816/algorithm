{
 "cells": [
  {
   "cell_type": "markdown",
   "id": "22fb4adf",
   "metadata": {},
   "source": [
    "220421"
   ]
  },
  {
   "cell_type": "code",
   "execution_count": null,
   "id": "e558a5bc",
   "metadata": {},
   "outputs": [],
   "source": [
    "# 다른 풀이 \n",
    "def solution(m, n, puddles):\n",
    "    puddles = [[q,p] for [p,q] in puddles]      # 미리 puddles 좌표 거꾸로\n",
    "    dp = [[0] * (m + 1) for i in range(n + 1)]  # dp 초기화\n",
    "    dp[1][1] = 1           # 집의 위치(시작위치)\n",
    "\n",
    "    for i in range(1, n + 1):\n",
    "        for j in range(1, m + 1):\n",
    "            if i == 1 and j == 1: continue \n",
    "            if [i, j] in puddles:    # 웅덩이 위치의 경우 값을 0으로\n",
    "                dp[i][j] = 0\n",
    "            else:                    # 현재 칸은 왼쪽 칸, 위 칸의 합산!\n",
    "                dp[i][j] = (dp[i - 1][j] + dp[i][j - 1]) % 1000000007\n",
    "    return dp[n][m]"
   ]
  },
  {
   "cell_type": "markdown",
   "id": "7440e3f6",
   "metadata": {},
   "source": [
    "https://dev-note-97.tistory.com/141"
   ]
  }
 ],
 "metadata": {
  "kernelspec": {
   "display_name": "Python 3 (ipykernel)",
   "language": "python",
   "name": "python3"
  },
  "language_info": {
   "codemirror_mode": {
    "name": "ipython",
    "version": 3
   },
   "file_extension": ".py",
   "mimetype": "text/x-python",
   "name": "python",
   "nbconvert_exporter": "python",
   "pygments_lexer": "ipython3",
   "version": "3.9.7"
  }
 },
 "nbformat": 4,
 "nbformat_minor": 5
}
