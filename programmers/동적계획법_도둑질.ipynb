{
 "cells": [
  {
   "cell_type": "code",
   "execution_count": null,
   "id": "80dcacc1",
   "metadata": {},
   "outputs": [],
   "source": [
    "# 다른 풀이 \n",
    "\n",
    "def solution(money):\n",
    "    dp1 = [0] * len(money)\n",
    "    dp1[0] = money[0]\n",
    "    dp1[1] = max(money[0], money[1])\n",
    "\n",
    "    for i in range(2, len(money)-1): # 첫 집을 무조건 터는 경우\n",
    "        dp1[i] = max(dp1[i-1], money[i]+dp1[i-2])\n",
    "\n",
    "    dp2 = [0] * len(money)\n",
    "    dp2[0] = 0\n",
    "    dp2[1] = money[1]\n",
    "\n",
    "    for i in range(2, len(money)): # 마지막 집을 무조건 터는 경우\n",
    "        dp2[i] = max(dp2[i-1], money[i]+dp2[i-2])\n",
    "\n",
    "    return max(max(dp1), max(dp2)) # 두 경우 중 최대"
   ]
  }
 ],
 "metadata": {
  "kernelspec": {
   "display_name": "Python 3 (ipykernel)",
   "language": "python",
   "name": "python3"
  },
  "language_info": {
   "codemirror_mode": {
    "name": "ipython",
    "version": 3
   },
   "file_extension": ".py",
   "mimetype": "text/x-python",
   "name": "python",
   "nbconvert_exporter": "python",
   "pygments_lexer": "ipython3",
   "version": "3.9.7"
  }
 },
 "nbformat": 4,
 "nbformat_minor": 5
}
