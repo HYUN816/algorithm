{
 "cells": [
  {
   "cell_type": "markdown",
   "id": "cce1700e",
   "metadata": {},
   "source": [
    "220405"
   ]
  },
  {
   "cell_type": "code",
   "execution_count": null,
   "id": "5af69867",
   "metadata": {},
   "outputs": [],
   "source": [
    "# 내 풀이 \n",
    "\n",
    "# 점 마다 번호를 부여해서 노드를 만든다 -> 가로세로가 얼마나 될지???\n",
    "# 사이클이 있는 지 확인\n"
   ]
  },
  {
   "cell_type": "code",
   "execution_count": null,
   "id": "6d41b731",
   "metadata": {},
   "outputs": [],
   "source": [
    "# 다른 풀이 \n",
    "\n",
    "import collections\n",
    "\n",
    "\n",
    "def solution(arrows):\n",
    "    answer = 0\n",
    "    move = [(-1, 0), (-1, 1), (0, 1), (1, 1),\n",
    "            (1, 0), (1, -1), (0, -1), (-1, -1)]\n",
    "    now = (0, 0)\n",
    "\n",
    "    # visited : 노드 방문 체크\n",
    "    # visited_dir : 노드 방문 경로 체크 ((A, B)는 A -> B 경로를 의미)\n",
    "    visited = collections.defaultdict(int)\n",
    "    visited_dir = collections.defaultdict(int)\n",
    "\n",
    "    # arrows 따라 노드 좌표를 큐에 추가\n",
    "    queue = collections.deque([now])\n",
    "    for i in arrows:\n",
    "        # 모래 시계 형태 예외를 처리하기 위해 해당 방향으로 2칸씩 추가한다.\n",
    "        for _ in range(2):\n",
    "            next = (now[0] + move[i][0], now[1] + move[i][1])\n",
    "            queue.append(next)\n",
    "\n",
    "            now = next\n",
    "\n",
    "    now = queue.popleft()\n",
    "    visited[now] = 1\n",
    "\n",
    "    while queue:\n",
    "        next = queue.popleft()\n",
    "\n",
    "        # 이미 방문한 노드(visited[x]==1)인 경우\n",
    "        if visited[next] == 1:\n",
    "            # 해당 경로로 처음 들어온 경우인 경우 answer++\n",
    "            # 처음 들어온 경우에 방이 처음 생성되므로!\n",
    "            if visited_dir[(now, next)] == 0:\n",
    "                answer += 1\n",
    "        # 처음 방문한 노드인 경우 방문 체크를 한다.\n",
    "        else:\n",
    "            visited[next] = 1\n",
    "\n",
    "        # 해당 노드로 들어온 경로를 방문 체크해준다.\n",
    "        visited_dir[(now, next)] = 1\n",
    "        visited_dir[(next, now)] = 1\n",
    "        now = next\n",
    "\n",
    "    return answer"
   ]
  },
  {
   "cell_type": "markdown",
   "id": "808c51ee",
   "metadata": {},
   "source": [
    "https://bellog.tistory.com/147\n",
    "\n",
    "https://chldkato.tistory.com/101"
   ]
  }
 ],
 "metadata": {
  "kernelspec": {
   "display_name": "Python 3 (ipykernel)",
   "language": "python",
   "name": "python3"
  },
  "language_info": {
   "codemirror_mode": {
    "name": "ipython",
    "version": 3
   },
   "file_extension": ".py",
   "mimetype": "text/x-python",
   "name": "python",
   "nbconvert_exporter": "python",
   "pygments_lexer": "ipython3",
   "version": "3.9.7"
  }
 },
 "nbformat": 4,
 "nbformat_minor": 5
}
