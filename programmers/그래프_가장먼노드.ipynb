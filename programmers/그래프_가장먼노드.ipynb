{
 "cells": [
  {
   "cell_type": "markdown",
   "id": "45b86c3e",
   "metadata": {},
   "source": [
    "220331"
   ]
  },
  {
   "cell_type": "code",
   "execution_count": null,
   "id": "14f7c309",
   "metadata": {},
   "outputs": [],
   "source": [
    "# 내 풀이 - 못품 \n",
    "\n",
    "def solution(n, edge):\n",
    "    \n",
    "    # 배열을 오름차순으로 정렬 \n",
    "    # 1번 노드가 있는 요소 찾고 array[i][1]인 array[j][0]을 찾도록 \n",
    "    # 재귀함수 사용??\n",
    "    \n",
    "    for i in edge : \n",
    "        i.sort()\n",
    "    print(edge)\n",
    "    answer = 0\n",
    "    return answer"
   ]
  },
  {
   "cell_type": "code",
   "execution_count": null,
   "id": "b06b76bf",
   "metadata": {},
   "outputs": [],
   "source": [
    "# 다른 풀이 - 위상정렬 이용한 풀이 \n",
    "\n",
    "from collections import deque\n",
    "\n",
    "\n",
    "def solution(n, edge):\n",
    "    answer = 0\n",
    "    route = [0]*(n+1) #노드 1부터 각 노드까지의 거리\n",
    "    edge.sort() #노드 1부터 연결 정보 확인하기 위해 정렬\n",
    "    queue = deque() \n",
    "    graph = [[] for i in range(n+1)] #각 노드에 연결된 노드 정보 저장\n",
    "    \n",
    "    for e in edge: # 양방향이므로 \n",
    "        graph[e[0]].append(e[1])\n",
    "        graph[e[1]].append(e[0])\n",
    "        \n",
    "    queue.append(1)\n",
    "    route[1] = 1\n",
    "    \n",
    "    while queue:\n",
    "        now = queue.popleft()\n",
    "        for g in graph[now]:\n",
    "            if route[g]==0:\n",
    "                queue.append(g)\n",
    "                route[g] = route[now]+1\n",
    "        \n",
    "    # 1번 노드로부터 가장 멀리 떨어진 노드 개수 계산\n",
    "    max_edge= max(route)\n",
    "    for r in route:\n",
    "        if r == max_edge:\n",
    "            answer+=1     \n",
    "            \n",
    "    return answer"
   ]
  },
  {
   "cell_type": "markdown",
   "id": "be1356c2",
   "metadata": {},
   "source": [
    "https://moseory20.tistory.com/35\n",
    "\n",
    "1. 먼저 노드 1부터 노드 간 연결 정보를 확인하기 위해 edge를 오름차순 정렬한다.\n",
    "\n",
    "2. edge를 차례대로 보며 리스트 graph에 각 노드마다 연결된 다른 노드 정보를 모두 저장한다. 이 때 양방향 그래프인 것을 유의한다.\n",
    "\n",
    "3. queue(deque())에 현재 노드와 직접 연결되어 있는 노드들을 삽입하는 작업을 반복한다. \n",
    "   - 1번 노드가 기준이므로 먼저 queue에 1을 가장 먼저 삽입한다.\n",
    "\n",
    "4. queue의 가장 앞 원소를 빼고 해당 원소와 연결되어 있는 모든 노드를 접근한다.\n",
    "   - 만약 접근한 노드가 아직 연결된 이력이 없다면(route[ ? ] == 0) 현재 원소와 연결되어 있기 때문에 queue에 삽입하고 route값을 현재 원소의 route + 1 해준다.\n",
    "\n",
    "5. queue가 빌 때까지 위 4번 로직을 반복하는데, route란 1번 노드로부터 몇 개의 간선을 통해 연결된 것인지를 표현하는 것이다. 하지만 route의 초기화는 모두 0으로 되어있고 route[1]==0이다.\n",
    "만약 [5,1]이 edge에 있었다면, if route[g] == 0: 구문에서 route[1] 값이 증가하는 일이 발생한다. 따라서 while queue: 반복문을 시작하기 전에 route[1]을 1로 설정하고 이후 노드들의 route 값은 2부터 시작하게 되도록 하였다.\n",
    "노드 1부터 \"얼마나 멀리 떨어져 있는가\"가 핵심이기 때문에 route의 시작(route[1])을 1로 설정해도 문제가 되지 않는다.\n",
    "\n",
    "6. 정답을 반환하기 위해 route에서 가장 큰 값(노드 1부터 가장 멀리 떨어진 값)을 가지는 노드 갯수를 계산한다."
   ]
  },
  {
   "cell_type": "code",
   "execution_count": 2,
   "id": "37668832",
   "metadata": {},
   "outputs": [
    {
     "data": {
      "text/plain": [
       "[[], [], [], []]"
      ]
     },
     "execution_count": 2,
     "metadata": {},
     "output_type": "execute_result"
    }
   ],
   "source": [
    "graph = [[] for i in range(4)]\n",
    "graph"
   ]
  },
  {
   "cell_type": "code",
   "execution_count": 4,
   "id": "b837cdf8",
   "metadata": {},
   "outputs": [
    {
     "data": {
      "text/plain": [
       "[[1, 2], [1, 3], [2, 4], [3, 2], [3, 6], [4, 3], [5, 2]]"
      ]
     },
     "execution_count": 4,
     "metadata": {},
     "output_type": "execute_result"
    }
   ],
   "source": [
    "edge = [[3, 6], [4, 3], [3, 2], [1, 3], [1, 2], [2, 4], [5, 2]]\n",
    "edge.sort()\n",
    "edge"
   ]
  },
  {
   "cell_type": "markdown",
   "id": "026457f2",
   "metadata": {},
   "source": [
    "cf. bfs 이용한 풀이 : https://donis-note.medium.com/%ED%94%84%EB%A1%9C%EA%B7%B8%EB%9E%98%EB%A8%B8%EC%8A%A4-%EA%B0%80%EC%9E%A5-%EB%A8%BC-%EB%85%B8%EB%93%9C-level-3-python-%ED%92%80%EC%9D%B4-248455cfa49d"
   ]
  },
  {
   "cell_type": "code",
   "execution_count": null,
   "id": "17f77a5c",
   "metadata": {},
   "outputs": [],
   "source": []
  }
 ],
 "metadata": {
  "kernelspec": {
   "display_name": "Python 3 (ipykernel)",
   "language": "python",
   "name": "python3"
  },
  "language_info": {
   "codemirror_mode": {
    "name": "ipython",
    "version": 3
   },
   "file_extension": ".py",
   "mimetype": "text/x-python",
   "name": "python",
   "nbconvert_exporter": "python",
   "pygments_lexer": "ipython3",
   "version": "3.9.7"
  }
 },
 "nbformat": 4,
 "nbformat_minor": 5
}
