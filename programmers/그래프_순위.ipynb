{
 "cells": [
  {
   "cell_type": "markdown",
   "id": "415d6253",
   "metadata": {},
   "source": [
    "220404"
   ]
  },
  {
   "cell_type": "code",
   "execution_count": null,
   "id": "32790d16",
   "metadata": {},
   "outputs": [],
   "source": [
    "# 다른 풀이 - 플로이드 와샬 \n",
    "\n",
    "\n",
    "def solution(n, results):\n",
    "    answer = 0\n",
    "    board = [[0]*n for _ in range(n)]\n",
    "    \n",
    "    for a,b in results:\n",
    "        board[a-1][b-1] = 1\n",
    "        board[b-1][a-1] = -1\n",
    "        \n",
    "    for k in range(n):\n",
    "        for i in range(n):\n",
    "            for j in range(n):\n",
    "                if i == j or board[i][j] in [1,-1]:\n",
    "                    continue\n",
    "                if board[i][k] == board[k][j] == 1:\n",
    "                    board[i][j] = 1\n",
    "                    board[j][i] = board[k][i] = board[j][k] = -1\n",
    "    for row in board:\n",
    "        if row.count(0) == 1:\n",
    "            answer += 1\n",
    "    return answer\n"
   ]
  },
  {
   "cell_type": "markdown",
   "id": "c17c4874",
   "metadata": {},
   "source": [
    "https://westmino.tistory.com/20\n",
    "\n",
    "a가 b를 이겼다면 b는 항상 a 아래이고, b가 c를 이겼다면 c도 항상 b 아래이다\n",
    "\n",
    "결국 c는 항상 a아래 이므로\n",
    "\n",
    "a->b, b->c이면 a->c 인 것이므로 플로이드와샬로 접근이 가능하다.\n",
    "\n",
    " \n",
    "\n",
    "a와 b 관계에서 a가 c를 이기고 c가 b를 이기는 관계가 있으면\n",
    "\n",
    "a가 b를 이긴것으로 체크하고 (b,a), (c,a), (b,c)는 모두 진것으로 체크하면 된다.\n",
    "\n",
    "마지막으로 순위가 결정되려면 모든 선수와 다 겨뤄봐야하므로 체크된 값의 개수가 n-1이거나 체크되지 않은 값이 1이면 된다."
   ]
  },
  {
   "cell_type": "code",
   "execution_count": null,
   "id": "e44b2014",
   "metadata": {},
   "outputs": [],
   "source": [
    "def solution(n, results):\n",
    "    answer = 0\n",
    "    win_graph = defaultdict(set)    # 이긴 애들\n",
    "    lose_graph = defaultdict(set)   # 진 애들\n",
    "    \n",
    "    for winner,loser in results:        # 결과에서 이기고 진 애들 그래프화\n",
    "        win_graph[loser].add(winner)\n",
    "        lose_graph[winner].add(loser)\n",
    "\n",
    "    for i in range(1,n+1):         \n",
    "        for winner in win_graph[i]:                    # i한테 진 애들은 i를 이긴 애들한테도 진 것\n",
    "            lose_graph[winner].update(lose_graph[i])\n",
    "        for loser in lose_graph[i]:                     # i한테 이긴 애들은 i한테 진 애들한테도 이긴 것\n",
    "            win_graph[loser].update(win_graph[i])\n",
    "    \n",
    "    for i in range(1,n+1):\n",
    "        if len(win_graph[i]) + len(lose_graph[i]) == n-1:   # i한테 이기고 진 애들 합쳐서 n-1이면 순위가 결정된 것\n",
    "            answer += 1\n",
    "\n",
    "    return answer"
   ]
  }
 ],
 "metadata": {
  "kernelspec": {
   "display_name": "Python 3 (ipykernel)",
   "language": "python",
   "name": "python3"
  },
  "language_info": {
   "codemirror_mode": {
    "name": "ipython",
    "version": 3
   },
   "file_extension": ".py",
   "mimetype": "text/x-python",
   "name": "python",
   "nbconvert_exporter": "python",
   "pygments_lexer": "ipython3",
   "version": "3.9.7"
  }
 },
 "nbformat": 4,
 "nbformat_minor": 5
}
