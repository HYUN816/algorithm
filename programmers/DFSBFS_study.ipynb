{
 "cells": [
  {
   "cell_type": "markdown",
   "id": "30ff6825",
   "metadata": {},
   "source": [
    "이것이 코딩테스트다 - dfs/bfs"
   ]
  },
  {
   "cell_type": "code",
   "execution_count": 5,
   "id": "dcc5c815",
   "metadata": {
    "scrolled": true
   },
   "outputs": [
    {
     "name": "stdout",
     "output_type": "stream",
     "text": [
      "[5, 2, 3]\n",
      "[3, 2, 5]\n"
     ]
    }
   ],
   "source": [
    "# 스택 - 선입후출/후입선출\n",
    "\n",
    "stack = []\n",
    "\n",
    "# 삽입(5) - 삽입(2) - 삽입(3) - 삽입(7) - 삭제() - 삽입(1) -삽입(4) - 삭제()\n",
    "\n",
    "stack.append(5)\n",
    "stack.append(2)\n",
    "stack.append(3)\n",
    "stack.append(7)\n",
    "stack.pop()\n",
    "stack.append(1)\n",
    "stack.pop()\n",
    "\n",
    "print(stack)\n",
    "print(stack[::-1]) # 최상단 원소부터 출력"
   ]
  },
  {
   "cell_type": "code",
   "execution_count": 9,
   "id": "126ad371",
   "metadata": {},
   "outputs": [
    {
     "name": "stdout",
     "output_type": "stream",
     "text": [
      "deque([3, 7, 1, 4])\n",
      "deque([4, 1, 7, 3])\n"
     ]
    }
   ],
   "source": [
    "# 큐 - 선입선출 \n",
    "\n",
    "from collections import deque \n",
    "\n",
    "queue = deque()\n",
    "\n",
    "# 삽입(5) - 삽입(2) - 삽입(3) - 삽입(7) - 삭제() - 삽입(1) -삽입(4) - 삭제()\n",
    "queue.append(5)\n",
    "queue.append(2)\n",
    "queue.append(3)\n",
    "queue.append(7)\n",
    "queue.popleft()\n",
    "queue.append(1)\n",
    "queue.append(4)\n",
    "queue.popleft()\n",
    "\n",
    "print(queue)\n",
    "queue.reverse()\n",
    "print(queue)"
   ]
  },
  {
   "cell_type": "code",
   "execution_count": 12,
   "id": "aaa86112",
   "metadata": {},
   "outputs": [],
   "source": [
    "# 재귀함수 = 자기자신을 다시 호출하는 함수 \n",
    "# for문으로도 재귀함수 같이 코드를 작성할 수 있다. \n",
    "\n",
    "# factorial \n",
    "\n",
    "# for문 이용\n",
    "def factorial_iterative(n) :\n",
    "    result=1\n",
    "    for i in range(1,n+1) :\n",
    "        result *=i\n",
    "    return result\n",
    "    \n",
    "    \n",
    "# 재귀함수 이용\n",
    "def factorial_recursive(n) :\n",
    "    if n<=1 : \n",
    "        return 1\n",
    "    return n*factorial_recursive(n-1)"
   ]
  },
  {
   "cell_type": "code",
   "execution_count": 13,
   "id": "d4907d65",
   "metadata": {},
   "outputs": [
    {
     "name": "stdout",
     "output_type": "stream",
     "text": [
      "120\n",
      "120\n"
     ]
    }
   ],
   "source": [
    "print(factorial_iterative(5))\n",
    "print(factorial_recursive(5))"
   ]
  },
  {
   "cell_type": "code",
   "execution_count": null,
   "id": "22a9f801",
   "metadata": {},
   "outputs": [],
   "source": [
    "# 최대공약수 - 재귀함수 이용 \n",
    "\n",
    "# 숫자 a,b(a>b)의 최대공약수는 a를 b로 나눈 나머지 R과 b의 최대공약수와 같다\n",
    "def gcd(a,b):\n",
    "    if a%b ==0 :\n",
    "        return b\n",
    "    else :\n",
    "        return gcd(b,a%b)"
   ]
  },
  {
   "cell_type": "code",
   "execution_count": 14,
   "id": "10868b19",
   "metadata": {},
   "outputs": [
    {
     "name": "stdout",
     "output_type": "stream",
     "text": [
      "[[0, 7, 5], [7, 0, 999999999], [5, 999999999, 0]]\n"
     ]
    }
   ],
   "source": [
    "# 인접행렬 - 2차원 배열로 그래프의 연결관계 표현\n",
    "# 불필요한 메모리 낭비 \n",
    "# 노드 연결정보 얻는 속도 상대적으로 빠르다\n",
    "\n",
    "INF=999999999\n",
    "\n",
    "# 자기자신 0 / 연결이 되어있지 않은 노드끼리는 무한의비용 작성\n",
    "graph=[[0,7,5],\n",
    "      [7,0,INF],\n",
    "      [5,INF,0]\n",
    "      ]\n",
    "\n",
    "print(graph)"
   ]
  },
  {
   "cell_type": "code",
   "execution_count": 19,
   "id": "ccf05e75",
   "metadata": {},
   "outputs": [
    {
     "name": "stdout",
     "output_type": "stream",
     "text": [
      "[[], [], []]\n",
      "[[(1, 7), (2, 5)], [(0, 7)], [(0, 5)]]\n"
     ]
    }
   ],
   "source": [
    "# 인접리스트 \n",
    "# 노드 연결정보 얻는 속도 상대적으로 느리다 \n",
    "\n",
    "graph = [[] for _ in range(3)]\n",
    "print(graph)\n",
    "\n",
    "# 노드 0에 연결된 노드 정보 저장(노드, 거리)\n",
    "graph[0].append((1,7))\n",
    "graph[0].append((2,5))\n",
    "\n",
    "# 노드 1에 연결된 노드 정보 저장(노드, 거리)\n",
    "graph[1].append((0,7))\n",
    "\n",
    "# 노드 2에 연결된 노드 정보 저장(노드, 거리)\n",
    "graph[2].append((0,5))\n",
    "\n",
    "print(graph)"
   ]
  },
  {
   "cell_type": "code",
   "execution_count": 24,
   "id": "4f5de8b5",
   "metadata": {},
   "outputs": [
    {
     "name": "stdout",
     "output_type": "stream",
     "text": [
      "1\n",
      "a 2 False\n",
      "b False\n",
      "2\n",
      "a 1 True\n",
      "a 7 False\n",
      "b False\n",
      "7\n",
      "a 2 True\n",
      "a 6 False\n",
      "b False\n",
      "6\n",
      "a 7 True\n",
      "a 8 False\n",
      "b False\n",
      "8\n",
      "a 1 True\n",
      "a 7 True\n",
      "a 3 False\n",
      "b False\n",
      "3\n",
      "a 1 True\n",
      "a 4 False\n",
      "b False\n",
      "4\n",
      "a 3 True\n",
      "a 5 False\n",
      "b False\n",
      "5\n",
      "a 3 True\n",
      "a 4 True\n",
      "a 5 True\n",
      "a 8 True\n"
     ]
    }
   ],
   "source": [
    "# DFS - 스택 / 재귀함수 이용\n",
    "\n",
    "def dfs(graph,v, visited):\n",
    "    \n",
    "    # 현재노드를 방문 처리 \n",
    "    visited[v] = True\n",
    "    print(v)\n",
    "    \n",
    "    # 현재 노드와 연결된 다른 노드를 재귀적으로 방문 \n",
    "    for i in graph[v]:\n",
    "        print('a', i, visited[i])\n",
    "        if not visited[i] :\n",
    "            print('b', visited[i])\n",
    "            dfs(graph,i,visited)\n",
    "            \n",
    "graph=[\n",
    "    [],\n",
    "    [2,3,8],\n",
    "    [1,7],\n",
    "    [1,4,5],\n",
    "    [3,5],\n",
    "    [3,4],\n",
    "    [7],\n",
    "    [2,6,8],\n",
    "    [1,7]\n",
    "]\n",
    "\n",
    "visited=[False]*9\n",
    "\n",
    "dfs(graph, 1, visited)"
   ]
  },
  {
   "cell_type": "code",
   "execution_count": 28,
   "id": "8ac5200b",
   "metadata": {},
   "outputs": [
    {
     "name": "stdout",
     "output_type": "stream",
     "text": [
      "1\n",
      "a 2 False\n",
      "b False\n",
      "a 3 False\n",
      "b False\n",
      "a 8 False\n",
      "b False\n",
      "2\n",
      "a 1 True\n",
      "a 7 False\n",
      "b False\n",
      "3\n",
      "a 1 True\n",
      "a 4 False\n",
      "b False\n",
      "a 5 False\n",
      "b False\n",
      "8\n",
      "a 1 True\n",
      "a 7 True\n",
      "7\n",
      "a 2 True\n",
      "a 6 False\n",
      "b False\n",
      "a 8 True\n",
      "4\n",
      "a 3 True\n",
      "a 5 True\n",
      "5\n",
      "a 3 True\n",
      "a 4 True\n",
      "6\n",
      "a 7 True\n"
     ]
    }
   ],
   "source": [
    "# BFS - 큐/큐 자료구조 이용 \n",
    "\n",
    "from collections import deque\n",
    "\n",
    "def bfs(graph, start, visited):\n",
    "    queue =deque([start])\n",
    "    \n",
    "    #현재노드를 방문 처리 \n",
    "    visited[start] = True\n",
    "    \n",
    "    #큐가 빌 때까지 반복\n",
    "    while queue :\n",
    "        #큐에서 하나의 원소를 뽑아 출력\n",
    "        v=queue.popleft()\n",
    "        print(v)\n",
    "        \n",
    "        for i in graph[v]:\n",
    "            print('a',i,visited[i])\n",
    "            if not visited[i] :\n",
    "                print('b',visited[i])\n",
    "                queue.append(i)\n",
    "                visited[i] = True\n",
    "                \n",
    "graph=[\n",
    "    [],\n",
    "    [2,3,8],\n",
    "    [1,7],\n",
    "    [1,4,5],\n",
    "    [3,5],\n",
    "    [3,4],\n",
    "    [7],\n",
    "    [2,6,8],\n",
    "    [1,7]\n",
    "]\n",
    "\n",
    "visited=[False]*9\n",
    "\n",
    "bfs(graph, 1, visited)"
   ]
  },
  {
   "cell_type": "code",
   "execution_count": null,
   "id": "5ff5f9dc",
   "metadata": {},
   "outputs": [],
   "source": []
  }
 ],
 "metadata": {
  "kernelspec": {
   "display_name": "Python 3 (ipykernel)",
   "language": "python",
   "name": "python3"
  },
  "language_info": {
   "codemirror_mode": {
    "name": "ipython",
    "version": 3
   },
   "file_extension": ".py",
   "mimetype": "text/x-python",
   "name": "python",
   "nbconvert_exporter": "python",
   "pygments_lexer": "ipython3",
   "version": "3.9.7"
  }
 },
 "nbformat": 4,
 "nbformat_minor": 5
}
