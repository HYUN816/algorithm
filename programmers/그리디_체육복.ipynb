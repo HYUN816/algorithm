{
 "cells": [
  {
   "cell_type": "markdown",
   "id": "38ea1f60",
   "metadata": {},
   "source": [
    "220411"
   ]
  },
  {
   "cell_type": "code",
   "execution_count": null,
   "id": "6a9a6a11",
   "metadata": {},
   "outputs": [],
   "source": [
    "# 내풀이 \n",
    "\n",
    "def solution(n, lost, reserve):\n",
    "    answer = n - len(lost)\n",
    "    \n",
    "    lost.sort()\n",
    "    reserve.sort()\n",
    "    self_li=[]\n",
    "    \n",
    "    # lost, reserve에 같이 있는 경우 \n",
    "    for i in lost :\n",
    "        if i in reserve :\n",
    "            answer+=1\n",
    "            reserve.remove(i)\n",
    "            self_li.append(i)\n",
    "    \n",
    "    for i in lost : \n",
    "        if i not in self_li : \n",
    "            if i-1 in reserve : \n",
    "                answer+=1 \n",
    "                reserve.remove(i-1)\n",
    "            elif i+1 in reserve : \n",
    "                answer+=1\n",
    "                reserve.remove(i+1)\n",
    "    return answer"
   ]
  },
  {
   "cell_type": "code",
   "execution_count": null,
   "id": "1c70200a",
   "metadata": {},
   "outputs": [],
   "source": [
    "# 다른 풀이 \n",
    "\n",
    "def solution(n, lost, reserve):\n",
    "    _reserve = [r for r in reserve if r not in lost]\n",
    "    _lost = [l for l in lost if l not in reserve]\n",
    "    for r in _reserve:\n",
    "        f = r - 1\n",
    "        b = r + 1\n",
    "        if f in _lost:\n",
    "            _lost.remove(f)\n",
    "        elif b in _lost:\n",
    "            _lost.remove(b)\n",
    "    return n - len(_lost)"
   ]
  }
 ],
 "metadata": {
  "kernelspec": {
   "display_name": "Python 3 (ipykernel)",
   "language": "python",
   "name": "python3"
  },
  "language_info": {
   "codemirror_mode": {
    "name": "ipython",
    "version": 3
   },
   "file_extension": ".py",
   "mimetype": "text/x-python",
   "name": "python",
   "nbconvert_exporter": "python",
   "pygments_lexer": "ipython3",
   "version": "3.9.7"
  }
 },
 "nbformat": 4,
 "nbformat_minor": 5
}
