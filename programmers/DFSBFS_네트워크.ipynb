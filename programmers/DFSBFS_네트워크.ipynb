{
 "cells": [
  {
   "cell_type": "markdown",
   "id": "f7b43ba8",
   "metadata": {},
   "source": [
    "220321"
   ]
  },
  {
   "cell_type": "markdown",
   "id": "db4f4b99",
   "metadata": {},
   "source": [
    "    DFS를 수행하는 함수 dfs를 정의하고, 모든 컴퓨터를 방문할 때까지 dfs를 반복합니다. \n",
    "    우선 0번째 컴퓨터부터 시작해서 이와 직/간접적으로 연결되어 있는 모든 컴퓨터들 방문합니다. \n",
    "    이후에도 아직 방문하지 않은 컴퓨터가 있으면 answer를 하나씩 증가시키고, \n",
    "    방문하지 않은 컴퓨터 중 번호가 가장 작은 것에서부터 시작해 다시 dfs를 호출합니다. \n",
    "    모든 컴퓨터를 방문하면 반복을 종료하고 answer를 반환합니다.\n",
    "\n",
    "    - https://codlingual.tistory.com/183"
   ]
  },
  {
   "cell_type": "code",
   "execution_count": null,
   "id": "c7b5c34b",
   "metadata": {},
   "outputs": [],
   "source": [
    "# 다른 사람 풀이 \n",
    "\n",
    "def dfs(node, computers, visited):\n",
    "    visited[node] = True \n",
    "    \n",
    "    for i, neighbor in enumerate(computers[node]):\n",
    "        # 인접노드 중 자기 자신이 아니고 아직 방문하지 않은 노드에 대해 \n",
    "        if neighbor > 0 and i != node and visited[i] == False:\n",
    "            dfs(i, computers, visited)\n",
    "    return visited\n",
    "\n",
    "def solution(n, computers):\n",
    "    answer = 1\n",
    "    visited = [False] * n\n",
    "    startNode = 0\n",
    "    \n",
    "    # 모두 방문할 때까지 \n",
    "    while True: \n",
    "        visited = dfs(startNode, computers, visited)\n",
    "        if False in visited:\n",
    "            startNode = visited.index(False)\n",
    "            answer += 1\n",
    "        else:\n",
    "            break\n",
    "\n",
    "    return answer"
   ]
  }
 ],
 "metadata": {
  "kernelspec": {
   "display_name": "Python 3 (ipykernel)",
   "language": "python",
   "name": "python3"
  },
  "language_info": {
   "codemirror_mode": {
    "name": "ipython",
    "version": 3
   },
   "file_extension": ".py",
   "mimetype": "text/x-python",
   "name": "python",
   "nbconvert_exporter": "python",
   "pygments_lexer": "ipython3",
   "version": "3.9.7"
  }
 },
 "nbformat": 4,
 "nbformat_minor": 5
}
