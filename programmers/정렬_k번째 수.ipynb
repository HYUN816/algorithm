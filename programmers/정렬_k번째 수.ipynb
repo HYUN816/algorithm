{
 "cells": [
  {
   "cell_type": "markdown",
   "id": "1ad1dcb7",
   "metadata": {},
   "source": [
    "220221"
   ]
  },
  {
   "cell_type": "code",
   "execution_count": null,
   "id": "c986285b",
   "metadata": {},
   "outputs": [],
   "source": [
    "# 내 풀이\n",
    "\n",
    "def solution(array, commands):\n",
    "    answer = []\n",
    "    for command in commands : \n",
    "        # list는 0부터 시작하기 때문에 -1\n",
    "        # [i:j] = i~j-1\n",
    "        array_ij = array[command[0]-1:command[1]]\n",
    "        array_ij.sort()\n",
    "        answer.append(array_ij[command[2]-1])\n",
    "    return answer"
   ]
  },
  {
   "cell_type": "code",
   "execution_count": null,
   "id": "cf1b3371",
   "metadata": {},
   "outputs": [],
   "source": [
    "# 더 나은 풀이1 - list comprehension 사용\n",
    "\n",
    "def solution(array, commands):\n",
    "\n",
    "    return [sorted(array[a[0]-1:a[1]])[a[2]-1] for a in commands]"
   ]
  },
  {
   "cell_type": "markdown",
   "id": "136f1d56",
   "metadata": {},
   "source": [
    "- comprehension : https://shoark7.github.io/programming/python/about-list-comprehension-python#5"
   ]
  },
  {
   "cell_type": "code",
   "execution_count": null,
   "id": "2d7b6939",
   "metadata": {},
   "outputs": [],
   "source": [
    "# 더 나은 풀이2 \n",
    "\n",
    "def solution(array, commands):\n",
    "    answer = []\n",
    "    for i,j,k in commands:\n",
    "        # i,j,k = commands[][0], commands[][1], commands[][2]\n",
    "        answer.append(sorted(array[i-1:j])[k-1])\n",
    "    return answer"
   ]
  },
  {
   "cell_type": "code",
   "execution_count": null,
   "id": "2763ae84",
   "metadata": {},
   "outputs": [],
   "source": [
    "# 더 나은 풀이3 \n",
    "\n",
    "def solution(array, commands):\n",
    "    \n",
    "    # map(funtion, iterable)\n",
    "    # lambda x \n",
    "    return list(map(lambda x:sorted(array[x[0]-1:x[1]])[x[2]-1], commands))"
   ]
  },
  {
   "cell_type": "code",
   "execution_count": null,
   "id": "d5594d24",
   "metadata": {},
   "outputs": [],
   "source": [
    "# 아쉬운 풀이 \n",
    "\n",
    "# 모듈을 실습해보고 싶은게 아니라면 굳이 할 필요가 있을까 의문이 든다\n",
    "\n",
    "\n",
    "from collections import deque\n",
    "\n",
    "def solution(array, commands):\n",
    "    answer = []\n",
    "\n",
    "    for com in commands:\n",
    "        deq = deque(array)\n",
    "        for _ in range(com[0]-1):\n",
    "            deq.popleft()\n",
    "        for _ in range(len(array)-com[1]):\n",
    "            deq.pop()\n",
    "\n",
    "        #print(deq)\n",
    "        deq = list(deq)\n",
    "        deq.sort()\n",
    "        #print(deq)\n",
    "        answer.append(deq[com[2]-1])\n",
    "\n",
    "    return answer"
   ]
  },
  {
   "cell_type": "markdown",
   "id": "547de3d4",
   "metadata": {},
   "source": [
    "# sort, sorted 정리 \n",
    "\n",
    "- list.sort() : list를 그자리에서 정렬하고 목록 인덱스를 변경하고 None을 반환\n",
    "\n",
    "    -> 변수로 저장하는 코드 x \n",
    "    \n",
    "    -> sort는 list만 가능한 대신 빠르다 \n",
    "\n",
    "\n",
    "- sorted는 list뿐만 아니라 반복 가능한 모든 작업에 적용 가능 \n",
    "\n",
    "    -> ex) 문자열, 튜플, 딕셔너리, 제너레이터\n",
    "\n",
    "사용법)\n",
    "list.sort(),list = sorted()"
   ]
  },
  {
   "cell_type": "code",
   "execution_count": null,
   "id": "926d7ce0",
   "metadata": {},
   "outputs": [],
   "source": []
  }
 ],
 "metadata": {
  "kernelspec": {
   "display_name": "Python 3 (ipykernel)",
   "language": "python",
   "name": "python3"
  },
  "language_info": {
   "codemirror_mode": {
    "name": "ipython",
    "version": 3
   },
   "file_extension": ".py",
   "mimetype": "text/x-python",
   "name": "python",
   "nbconvert_exporter": "python",
   "pygments_lexer": "ipython3",
   "version": "3.9.7"
  }
 },
 "nbformat": 4,
 "nbformat_minor": 5
}
