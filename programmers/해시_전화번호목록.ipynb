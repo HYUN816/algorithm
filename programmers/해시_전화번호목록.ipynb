{
 "cells": [
  {
   "cell_type": "markdown",
   "id": "f3d0a36b",
   "metadata": {},
   "source": [
    "220302"
   ]
  },
  {
   "cell_type": "code",
   "execution_count": 1,
   "id": "872cf729",
   "metadata": {},
   "outputs": [],
   "source": [
    "# 내 풀이 - 못품 => 문제를 잘못 이해함\n",
    "\n",
    "# 맨 첫번째 숫자를 포함하고 있는 값을 찾는 줄 알았으나 xx\n",
    "# phone_book의 요소 사이에서 중복 값이 있는지 찾는 것임\n",
    "\n",
    "# 잘못 푼 풀이\n",
    "def solution(phone_book):\n",
    "    for i in range(len(phone_book)-1):\n",
    "        if phone_book[0] in phone_book[i+1] :\n",
    "            return False\n",
    "    return True"
   ]
  },
  {
   "cell_type": "code",
   "execution_count": 2,
   "id": "fa25540d",
   "metadata": {},
   "outputs": [],
   "source": [
    "# 더 나은 풀이 \n",
    "\n",
    "def solution(phone_book):\n",
    "    phone_book.sort()\n",
    "    answer = True\n",
    "    for i in range(len(phone_book)-1):\n",
    "        if phone_book[i] == phone_book[i+1][0:len(phone_book[i])]:\n",
    "            answer = False\n",
    "            break\n",
    "    return answer"
   ]
  }
 ],
 "metadata": {
  "kernelspec": {
   "display_name": "Python 3 (ipykernel)",
   "language": "python",
   "name": "python3"
  },
  "language_info": {
   "codemirror_mode": {
    "name": "ipython",
    "version": 3
   },
   "file_extension": ".py",
   "mimetype": "text/x-python",
   "name": "python",
   "nbconvert_exporter": "python",
   "pygments_lexer": "ipython3",
   "version": "3.9.7"
  }
 },
 "nbformat": 4,
 "nbformat_minor": 5
}
