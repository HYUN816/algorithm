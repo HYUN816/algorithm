{
 "cells": [
  {
   "cell_type": "markdown",
   "id": "4233fd98",
   "metadata": {},
   "source": [
    "220425"
   ]
  },
  {
   "cell_type": "code",
   "execution_count": null,
   "id": "beb80622",
   "metadata": {},
   "outputs": [],
   "source": [
    "# 내 풀이 - 일부 맞음 \n",
    "\n",
    "import heapq\n",
    "\n",
    "def solution(scoville, K):\n",
    "    \n",
    "    answer=0\n",
    "    while scoville:\n",
    "        first= heapq.heappop(scoville)\n",
    "        second = heapq.heappop(scoville)\n",
    "        # print(first,second)\n",
    "        new_sco = first + second*2 \n",
    "        answer+=1\n",
    "        if new_sco < K : \n",
    "            heapq.heappush(scoville,new_sco)\n",
    "            # scoville.sort()\n",
    "        elif new_sco >= K : \n",
    "            break\n",
    "        else : \n",
    "            answer=-1\n",
    "    return answer"
   ]
  },
  {
   "cell_type": "code",
   "execution_count": 1,
   "id": "f4d54045",
   "metadata": {},
   "outputs": [
    {
     "ename": "SyntaxError",
     "evalue": "invalid syntax (Temp/ipykernel_13192/3598335372.py, line 12)",
     "output_type": "error",
     "traceback": [
      "\u001b[1;36m  File \u001b[1;32m\"C:\\Users\\H\\AppData\\Local\\Temp/ipykernel_13192/3598335372.py\"\u001b[1;36m, line \u001b[1;32m12\u001b[0m\n\u001b[1;33m    whlie heap[0] <K :\u001b[0m\n\u001b[1;37m          ^\u001b[0m\n\u001b[1;31mSyntaxError\u001b[0m\u001b[1;31m:\u001b[0m invalid syntax\n"
     ]
    }
   ],
   "source": [
    "# 다른 풀이 \n",
    "\n",
    "import heapq\n",
    "\n",
    "def solultion(scoville, K) : \n",
    "    heap=[]\n",
    "    for num in scoville : \n",
    "        heapq.heappush(heap, num)\n",
    "        \n",
    "    answer=0\n",
    "    \n",
    "    whlie heap[0] <K : \n",
    "        try : \n",
    "            heapq.heappush(heap, heapq.heappop(heap) + heapq.heappop(heap)*2)\n",
    "        except :\n",
    "            return -1\n",
    "        answer+=1\n",
    "    return answer"
   ]
  },
  {
   "cell_type": "markdown",
   "id": "0ed660c7",
   "metadata": {},
   "source": [
    "heapq 쓰는법 \n",
    "\n",
    "https://hocheon.tistory.com/70"
   ]
  },
  {
   "cell_type": "code",
   "execution_count": 3,
   "id": "1520a592",
   "metadata": {},
   "outputs": [],
   "source": [
    "import heapq\n",
    "tmp = [7, 5, 8, 3]\n",
    "heapq.heapify(tmp)"
   ]
  },
  {
   "cell_type": "code",
   "execution_count": 7,
   "id": "181d1bca",
   "metadata": {},
   "outputs": [
    {
     "name": "stdout",
     "output_type": "stream",
     "text": [
      "None\n"
     ]
    }
   ],
   "source": [
    "print(heapq.heapify(tmp))"
   ]
  },
  {
   "cell_type": "code",
   "execution_count": 8,
   "id": "329c0ccf",
   "metadata": {},
   "outputs": [
    {
     "data": {
      "text/plain": [
       "[3, 5, 8, 7]"
      ]
     },
     "execution_count": 8,
     "metadata": {},
     "output_type": "execute_result"
    }
   ],
   "source": [
    "tmp"
   ]
  },
  {
   "cell_type": "code",
   "execution_count": 9,
   "id": "6240ca9c",
   "metadata": {},
   "outputs": [
    {
     "name": "stdout",
     "output_type": "stream",
     "text": [
      "3\n"
     ]
    }
   ],
   "source": [
    "print(heapq.heappop(tmp))"
   ]
  },
  {
   "cell_type": "code",
   "execution_count": 10,
   "id": "c484bcf5",
   "metadata": {},
   "outputs": [
    {
     "name": "stdout",
     "output_type": "stream",
     "text": [
      "5\n"
     ]
    }
   ],
   "source": [
    "print(heapq.heappop(tmp))"
   ]
  },
  {
   "cell_type": "code",
   "execution_count": 11,
   "id": "275f9f54",
   "metadata": {},
   "outputs": [
    {
     "name": "stdout",
     "output_type": "stream",
     "text": [
      "7\n"
     ]
    }
   ],
   "source": [
    "print(heapq.heappop(tmp))"
   ]
  },
  {
   "cell_type": "code",
   "execution_count": 12,
   "id": "94d32446",
   "metadata": {},
   "outputs": [
    {
     "name": "stdout",
     "output_type": "stream",
     "text": [
      "8\n"
     ]
    }
   ],
   "source": [
    "print(heapq.heappop(tmp))"
   ]
  },
  {
   "cell_type": "code",
   "execution_count": null,
   "id": "7b2beb91",
   "metadata": {},
   "outputs": [],
   "source": []
  }
 ],
 "metadata": {
  "kernelspec": {
   "display_name": "Python 3 (ipykernel)",
   "language": "python",
   "name": "python3"
  },
  "language_info": {
   "codemirror_mode": {
    "name": "ipython",
    "version": 3
   },
   "file_extension": ".py",
   "mimetype": "text/x-python",
   "name": "python",
   "nbconvert_exporter": "python",
   "pygments_lexer": "ipython3",
   "version": "3.9.7"
  }
 },
 "nbformat": 4,
 "nbformat_minor": 5
}
