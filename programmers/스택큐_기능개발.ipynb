{
 "cells": [
  {
   "cell_type": "markdown",
   "id": "649735f4",
   "metadata": {},
   "source": [
    "220328"
   ]
  },
  {
   "cell_type": "code",
   "execution_count": null,
   "id": "8820b117",
   "metadata": {},
   "outputs": [],
   "source": [
    "# 내 풀이 - 코드 실행 결과 일부 틀림 \n",
    "\n",
    "# 선입선출 - 큐 / bfs\n",
    "\n",
    "from collections import deque\n",
    "\n",
    "def solution(progresses, speeds):\n",
    "    queue=deque()\n",
    "    \n",
    "    for i in range(len(progresses)) :\n",
    "        if (100-progresses[i]) % speeds[i] ==0:\n",
    "            queue.append((100-progresses[i]) // speeds[i])\n",
    "        else :\n",
    "            queue.append((100-progresses[i]) // speeds[i] +1)\n",
    "    print(queue)\n",
    "    \n",
    "    # 사고의 흐름 \n",
    "    # 해당 번호의 앞의 func_data의 합보다 작으면 +1 xxx\n",
    "    # 기능 배포일의 가장 큰 수의 합보다 작을때 +1\n",
    "    \n",
    "    answer = []\n",
    "    func_date=[]\n",
    "    date_sum=queue[0]\n",
    "    while queue :\n",
    "        date = queue.popleft()\n",
    "        if date<=date_sum:\n",
    "            func_date.append(date)\n",
    "        else :\n",
    "            print(func_date)\n",
    "            answer.append(len(func_date))\n",
    "            max_date=max(func_date)\n",
    "            func_date=[]\n",
    "            func_date.append(date)\n",
    "            date_sum+=max_date\n",
    "    answer.append(len(func_date))\n",
    "    return answer\n",
    "\n",
    "# 내풀이의 문제점 : 첫번째 요소를 date_sum에 무조건 넣어줬기 때문에 max_date가 여러번 계산되는 경우가 있을 것"
   ]
  },
  {
   "cell_type": "code",
   "execution_count": null,
   "id": "9a7e4fc3",
   "metadata": {},
   "outputs": [],
   "source": [
    "# 다른 사람 풀이\n",
    "\n",
    "def solution(progresses, speeds):\n",
    "    Q=[]\n",
    "    for p, s in zip(progresses, speeds):\n",
    "        if len(Q)==0 or Q[-1][0]<-((p-100)//s):\n",
    "            Q.append([-((p-100)//s),1])\n",
    "        else:\n",
    "            Q[-1][1]+=1\n",
    "    return [q[1] for q in Q]"
   ]
  }
 ],
 "metadata": {
  "kernelspec": {
   "display_name": "Python 3 (ipykernel)",
   "language": "python",
   "name": "python3"
  },
  "language_info": {
   "codemirror_mode": {
    "name": "ipython",
    "version": 3
   },
   "file_extension": ".py",
   "mimetype": "text/x-python",
   "name": "python",
   "nbconvert_exporter": "python",
   "pygments_lexer": "ipython3",
   "version": "3.9.7"
  }
 },
 "nbformat": 4,
 "nbformat_minor": 5
}
