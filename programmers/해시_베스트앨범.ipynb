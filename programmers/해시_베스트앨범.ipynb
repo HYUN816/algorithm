{
 "cells": [
  {
   "cell_type": "markdown",
   "id": "9cb58a41",
   "metadata": {},
   "source": [
    "220307"
   ]
  },
  {
   "cell_type": "code",
   "execution_count": null,
   "id": "1517e2fc",
   "metadata": {},
   "outputs": [],
   "source": [
    "# 내 풀이 \n",
    "\n",
    "# 사고의 흐름 \n",
    "# 1. play를 인덱스 붙여주고, genre와 key value 형태로 만든다\n",
    "# 2. 위의 딕셔너리에서 play의 value들의 합을 구한뒤 genre순위 구한다\n",
    "# 3. genre순위에 따라 play의 인덱스를 상위 2까지 뽑는다 \n",
    "\n",
    "def solution(genres, plays):\n",
    "    \n",
    "    # play를 idx와 튜플 형태로 만들어준다 - 나중에 인덱스 뽑기 위함 \n",
    "    play_li =[]\n",
    "    for play in enumerate(plays) :\n",
    "        play_li.append(play)\n",
    "    \n",
    "    # genre를 key로 위에서 만들어준 tuple을 value로 dictionary\n",
    "    # {'classic': [(0, 500), (2, 150), (3, 800)], 'pop': [(1, 600), (4, 2500)]}\n",
    "    gen_dic={}\n",
    "    for i in range(len(genres)) :\n",
    "        if genres[i] in gen_dic :\n",
    "            gen_dic[genres[i]].append(play_li[i])\n",
    "        else :\n",
    "            gen_dic[genres[i]]=[play_li[i]]\n",
    "    \n",
    "    # 장르 순위 뽑기 \n",
    "    gen_rank={}\n",
    "    for key in gen_dic.keys() :\n",
    "        gen_sum = 0 \n",
    "        for value in gen_dic[key]:\n",
    "            gen_sum += value[1]\n",
    "        gen_rank[key] = gen_sum   \n",
    "    # play합인 value를 기준으로 정렬 -> 결과 형태 튜플 ('genre',gen_sum)\n",
    "    gen_rank = sorted(gen_rank.items(),reverse=True,key = lambda item: item[1])\n",
    "    \n",
    "    # 최종 순위 뽑기 \n",
    "    final_rank=[]\n",
    "    for key in gen_rank :\n",
    "        # genre안에서 순위대로 정렬\n",
    "        gen_dic[key[0]].sort(key=lambda x : x[1], reverse=True)\n",
    "        \n",
    "        if len(gen_dic[key[0]])<2 : \n",
    "            print(gen_dic[key[0]])\n",
    "            final_rank.append(gen_dic[key[0]][0][0])\n",
    "        else :\n",
    "            final_rank.append(gen_dic[key[0]][0][0])\n",
    "            final_rank.append(gen_dic[key[0]][1][0])\n",
    "\n",
    "    return final_rank"
   ]
  },
  {
   "cell_type": "code",
   "execution_count": null,
   "id": "3cbefadd",
   "metadata": {},
   "outputs": [],
   "source": [
    "# 더 나은 풀이 - 내 풀이와 비슷한 풀이 \n",
    "\n",
    "# 집중 포인트 : value 정렬 방법 \n",
    "\n",
    "def solution(genres, plays):\n",
    "    genres_dict = {}\n",
    "    genres_list = []\n",
    "    for i in range(len(genres)):\n",
    "        if genres[i] not in genres_dict:\n",
    "            genres_dict[genres[i]] = []\n",
    "        genres_dict[genres[i]].append([i, plays[i]])\n",
    "\n",
    "    # 굳이 genres_dict.key()를 안 해줘도 됨 \n",
    "    for g in genres_dict:\n",
    "        # value의 play값으로 정렬 \n",
    "        # genres_dict={g:[[idx,play_value],[idx,[play_value]]]}\n",
    "        genres_dict[g].sort(key=lambda x: x[1], reverse=True)\n",
    "        genres_list.append([g, sum([play for _, play in genres_dict[g]])])\n",
    "        \n",
    "    #genres_list의 sum으로 정렬 \n",
    "    genres_list.sort(key=lambda x: x[1], reverse=True)\n",
    "    answer = []\n",
    "    for g, _ in genres_list:\n",
    "        answer.extend([x[0] for x in genres_dict[g][:2]])\n",
    "    return answer"
   ]
  },
  {
   "cell_type": "code",
   "execution_count": null,
   "id": "73e21c9b",
   "metadata": {},
   "outputs": [],
   "source": [
    "# 더 나은 풀이 - 내 풀이 연장선\n",
    "\n",
    "# 집중 포인트 - for문 한번에 enumerate 와 sum dic 만드는 방법 \n",
    "\n",
    "def solution(genres, plays):\n",
    "    answer = []\n",
    "\n",
    "    dic1 = {}\n",
    "    dic2 = {}\n",
    "\n",
    "    for i, (g, p) in enumerate(zip(genres, plays)):\n",
    "        if g not in dic1:\n",
    "            dic1[g] = [(i, p)]\n",
    "        else:\n",
    "            dic1[g].append((i, p))\n",
    "        \n",
    "        # sum \n",
    "        if g not in dic2:\n",
    "            dic2[g] = p\n",
    "        else:\n",
    "            dic2[g] += p\n",
    "    \n",
    "    for (k, v) in sorted(dic2.items(), key=lambda x:x[1], reverse=True):\n",
    "        for (i, p) in sorted(dic1[k], key=lambda x:x[1], reverse=True)[:2]:\n",
    "            answer.append(i)\n",
    "\n",
    "    return answer"
   ]
  },
  {
   "cell_type": "markdown",
   "id": "b7b8efdb",
   "metadata": {},
   "source": [
    "### dictionary 정렬 방법 \n",
    "\n",
    "sorted(gen_rank.items(),reverse=True,key = lambda item: item[i])\n",
    "- i=0 : key로 정렬\n",
    "- i=1 : value로 정렬 "
   ]
  },
  {
   "cell_type": "code",
   "execution_count": null,
   "id": "b4f027d2",
   "metadata": {},
   "outputs": [],
   "source": []
  }
 ],
 "metadata": {
  "kernelspec": {
   "display_name": "Python 3 (ipykernel)",
   "language": "python",
   "name": "python3"
  },
  "language_info": {
   "codemirror_mode": {
    "name": "ipython",
    "version": 3
   },
   "file_extension": ".py",
   "mimetype": "text/x-python",
   "name": "python",
   "nbconvert_exporter": "python",
   "pygments_lexer": "ipython3",
   "version": "3.9.7"
  }
 },
 "nbformat": 4,
 "nbformat_minor": 5
}
