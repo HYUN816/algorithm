{
 "cells": [
  {
   "cell_type": "markdown",
   "id": "9dbb5fd7",
   "metadata": {},
   "source": [
    "220330"
   ]
  },
  {
   "cell_type": "code",
   "execution_count": null,
   "id": "255db0ea",
   "metadata": {},
   "outputs": [],
   "source": [
    "# 내풀이 - 정확성은 통과 효율성은 시간초과로 실패\n",
    "\n",
    "\n",
    "# 원소를 하나씩 꺼낸뒤 리스트의 남은 원소들과 비교하여 숫자가 작지 않을 때 까지 +1\n",
    "def solution(prices):\n",
    "    while len(prices) : \n",
    "        price=prices.pop(0)\n",
    "        time=0\n",
    "        for i in prices :\n",
    "            time+=1\n",
    "            if price > i :\n",
    "                break\n",
    "        answer.append(time)\n",
    "    \n",
    "    return answer"
   ]
  },
  {
   "cell_type": "code",
   "execution_count": null,
   "id": "87cab2c8",
   "metadata": {},
   "outputs": [],
   "source": [
    "# 다른 풀이 \n",
    "\n",
    "def solution(prices):\n",
    "    answer = [0]*len(prices)\n",
    "    for i in range(len(prices)):\n",
    "        for j in range(i+1, len(prices)) :\n",
    "            answer[i]+=1\n",
    "            if prices[i]>prices[j]:\n",
    "                break\n",
    "    return answer"
   ]
  },
  {
   "cell_type": "code",
   "execution_count": null,
   "id": "fd22f74a",
   "metadata": {},
   "outputs": [],
   "source": [
    "# 큐 사용한 풀이 \n",
    "\n",
    "from collections import deque\n",
    "\n",
    "def solution(prices):\n",
    "    answer=[]\n",
    "    prices=deque(prices)\n",
    "    \n",
    "    while prices :\n",
    "        c = prices.popleft()\n",
    "        \n",
    "        count = 0 \n",
    "        for i in prices :\n",
    "            count+=1\n",
    "            if c>i:\n",
    "                break\n",
    "        answer.append(count)\n",
    "    return answer"
   ]
  }
 ],
 "metadata": {
  "kernelspec": {
   "display_name": "Python 3 (ipykernel)",
   "language": "python",
   "name": "python3"
  },
  "language_info": {
   "codemirror_mode": {
    "name": "ipython",
    "version": 3
   },
   "file_extension": ".py",
   "mimetype": "text/x-python",
   "name": "python",
   "nbconvert_exporter": "python",
   "pygments_lexer": "ipython3",
   "version": "3.9.7"
  }
 },
 "nbformat": 4,
 "nbformat_minor": 5
}
