{
 "cells": [
  {
   "cell_type": "markdown",
   "metadata": {},
   "source": [
    "220315"
   ]
  },
  {
   "cell_type": "code",
   "execution_count": null,
   "metadata": {},
   "outputs": [],
   "source": [
    "# 생각해본 풀이\n",
    "# permutation(순열)을 이용할까?생각함\n",
    "# 원소별로 + - 로 조합해서 sum\n",
    "# but, 원소별로 + - 를 할당해서 조합하는게 어려움 "
   ]
  },
  {
   "cell_type": "code",
   "execution_count": null,
   "metadata": {},
   "outputs": [],
   "source": [
    "# 다른 풀이 - BFS\n",
    "\n",
    "def solution(numbers, target):\n",
    "    answer = 0\n",
    "    leaves = [0]\n",
    "    for num in numbers:\n",
    "        tmp = []\n",
    "        for parent in leaves:\n",
    "            tmp.append(parent + num)\n",
    "            tmp.append(parent - num)\n",
    "        leaves = tmp\n",
    "    for leaf in leaves:\n",
    "        if leaf == target:\n",
    "            answer += 1\n",
    "    return answer"
   ]
  },
  {
   "cell_type": "code",
   "execution_count": null,
   "metadata": {},
   "outputs": [],
   "source": [
    "#다른 풀이 - DFS\n",
    "def solution(numbers, target):\n",
    "    answer = DFS(numbers, target, 0)\n",
    "    return answer\n",
    "\n",
    "def DFS(numbers, target, depth):\n",
    "    answer = 0\n",
    "    if depth == len(numbers):\n",
    "        print(numbers)\n",
    "        if sum(numbers) == target:\n",
    "            return 1\n",
    "        else: return 0\n",
    "    else:\n",
    "        answer += DFS(numbers, target, depth+1)\n",
    "        numbers[depth] *= -1\n",
    "        answer += DFS(numbers, target, depth+1)\n",
    "        return answer"
   ]
  },
  {
   "cell_type": "markdown",
   "metadata": {},
   "source": [
    "https://velog.io/@timointhebush/%ED%94%84%EB%A1%9C%EA%B7%B8%EB%9E%98%EB%A8%B8%EC%8A%A4-%ED%83%80%EA%B2%9F-%EB%84%98%EB%B2%84-DFS-BFS-Python"
   ]
  },
  {
   "cell_type": "markdown",
   "metadata": {},
   "source": [
    "https://eda-ai-lab.tistory.com/475"
   ]
  }
 ],
 "metadata": {
  "kernelspec": {
   "display_name": "Python 3 (ipykernel)",
   "language": "python",
   "name": "python3"
  },
  "language_info": {
   "codemirror_mode": {
    "name": "ipython",
    "version": 3
   },
   "file_extension": ".py",
   "mimetype": "text/x-python",
   "name": "python",
   "nbconvert_exporter": "python",
   "pygments_lexer": "ipython3",
   "version": "3.9.7"
  },
  "toc": {
   "base_numbering": 1,
   "nav_menu": {},
   "number_sections": true,
   "sideBar": true,
   "skip_h1_title": false,
   "title_cell": "Table of Contents",
   "title_sidebar": "Contents",
   "toc_cell": false,
   "toc_position": {},
   "toc_section_display": true,
   "toc_window_display": false
  },
  "varInspector": {
   "cols": {
    "lenName": 16,
    "lenType": 16,
    "lenVar": 40
   },
   "kernels_config": {
    "python": {
     "delete_cmd_postfix": "",
     "delete_cmd_prefix": "del ",
     "library": "var_list.py",
     "varRefreshCmd": "print(var_dic_list())"
    },
    "r": {
     "delete_cmd_postfix": ") ",
     "delete_cmd_prefix": "rm(",
     "library": "var_list.r",
     "varRefreshCmd": "cat(var_dic_list()) "
    }
   },
   "types_to_exclude": [
    "module",
    "function",
    "builtin_function_or_method",
    "instance",
    "_Feature"
   ],
   "window_display": false
  }
 },
 "nbformat": 4,
 "nbformat_minor": 4
}
