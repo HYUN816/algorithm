{
 "cells": [
  {
   "cell_type": "markdown",
   "id": "2edc08e6",
   "metadata": {},
   "source": [
    "220323"
   ]
  },
  {
   "cell_type": "code",
   "execution_count": null,
   "id": "24373122",
   "metadata": {},
   "outputs": [],
   "source": [
    "# 내 풀이 - 못품 ㅜ"
   ]
  },
  {
   "cell_type": "markdown",
   "id": "a42f4074",
   "metadata": {},
   "source": [
    "    begin에서 target으로 변환될 수 있는지 확인하는 것이 아니라, \n",
    "    거꾸로 target에서 한 알파벳씩 변환하면서 begin으로 변환될 수 있는지 확인합니다.\n",
    "    \n",
    "    words안에 target이 있다면, answer라는 리스트를 만들어 target이 begin으로 변환되는데 필요한 단계 수를 저장합니다.\n",
    "    \n",
    "    search 함수를 통해 target에서 한 알파벳만 바꾸면서 begin으로 변환될 수 있는지 확인합니다.\n",
    "    우선 words 안의 단어 하나씩을 word라는 변수로 꺼낸 후, \n",
    "    이 word가 target과 같고, begin과 한 알파벳만 다른 사이라면 현재 depth를 answer에 추가합니다.\n",
    "    \n",
    "    그렇지 않고 word가 target가 한 알파벳만 다른 사이라면 다시 recursive하게 search 함수를 호출하고 이때 target은 현재 word로, \n",
    "    words는 words에서 현재 target을 제외한 리스트로, depth는 기존보다 1을 더한 값으로 줍니다.\n",
    "    이렇게 search 함수를 처음에 문제에 주어진 target, words를 넣고 depth는 1로 준 이후 이 과정에서 채워진 answer의 값 중 최솟값을 반환합니다.\n",
    "    \n",
    "    - https://codlingual.tistory.com/137\n",
    "    "
   ]
  },
  {
   "cell_type": "code",
   "execution_count": null,
   "id": "4ffec1e2",
   "metadata": {},
   "outputs": [],
   "source": [
    "# query와 key가 한 알파벳만 다른 사이면 True, 아니면 False \n",
    "def checkdiff1(query, key):\n",
    "    diff = 0\n",
    "    for a,b in zip(query,key):\n",
    "        if a != b:\n",
    "            diff += 1 \n",
    "    return diff == 1 \n",
    "\n",
    "def solution(begin, target, words):\n",
    "    answer = []\n",
    "    \n",
    "    # words에 target 단어가 없으면 begin을 target으로 반환할 수 없으므로 0 반환 \n",
    "    if target not in words:\n",
    "        return 0\n",
    "\n",
    "    # target에서 한 알파벳씩만 바꾸면서 begin으로 갈 수 있는지 확인 \n",
    "    def search(target, words, depth):\n",
    "        for word in words:\n",
    "            # target 단어 자체가 한 알파벳만 바꾸면 begin이 되는 경우 \n",
    "            if word == target and checkdiff1(begin, word):\n",
    "                # 현재 depth를 answer에 추가 \n",
    "                answer.append(depth)\n",
    "            # words 안의 단어 중 target과 한 알파벳만 다른 사이인 경우 \n",
    "            elif checkdiff1(target, word):\n",
    "                # depth를 하나 더 늘려서 target 제외한 words 리스트에서 한 알파벳만 다른 사이들을 다시 search \n",
    "                search(word, [w for w in words if w != target], depth+1) \n",
    "        \n",
    "    search(target, words, 1)\n",
    "    \n",
    "    # answer의 값 중 최솟값을 반환 \n",
    "    return min(answer)"
   ]
  }
 ],
 "metadata": {
  "kernelspec": {
   "display_name": "Python 3 (ipykernel)",
   "language": "python",
   "name": "python3"
  },
  "language_info": {
   "codemirror_mode": {
    "name": "ipython",
    "version": 3
   },
   "file_extension": ".py",
   "mimetype": "text/x-python",
   "name": "python",
   "nbconvert_exporter": "python",
   "pygments_lexer": "ipython3",
   "version": "3.9.7"
  }
 },
 "nbformat": 4,
 "nbformat_minor": 5
}
