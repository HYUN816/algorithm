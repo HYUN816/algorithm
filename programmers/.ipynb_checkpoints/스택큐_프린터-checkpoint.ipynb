{
 "cells": [
  {
   "cell_type": "markdown",
   "id": "7aaed6f3",
   "metadata": {},
   "source": [
    "220328"
   ]
  },
  {
   "cell_type": "code",
   "execution_count": null,
   "id": "de7242c3",
   "metadata": {},
   "outputs": [],
   "source": [
    "# 내풀이 - 못 품\n",
    "\n",
    "# 사고의 흐름 \n",
    "# 1. enumerate로 index를 붙여줌\n",
    "# 2. queue에 넣어서 queue의 두번째 원소의 맥스 값과 다를 경우 popleft후 다시 append\n",
    "# 3. max값과 같을 경우 popleft 후 다시 새로운 list에 append\n",
    "# 4. queue가 비면 새로 만든 list에서 location과 붙여준 idx가 같을 때 list의 index를 반환 \n",
    "\n",
    "\n",
    "from collections import deque\n",
    "\n",
    "\n",
    "def solution(priorities, location):\n",
    "\n",
    "    importance=[]\n",
    "    for pri in enumerate(priorities) :\n",
    "        \n",
    "        importance.append(pri)\n",
    "    # importance.sort(key=lambda x : (x[1],-x[0]))\n",
    "    print(importance)\n",
    "    \n",
    "    queue = deque(importance)\n",
    "    print(queue[0])\n",
    "\n",
    "    orderli=[]\n",
    "    i=0\n",
    "    answer=0\n",
    "    while queue:\n",
    "        if queue[i][1] != max(priorities) :\n",
    "            queue.append(queue.popleft())\n",
    "        else : \n",
    "            queue.popleft()\n",
    "            priorities.remove(queue[i])\n",
    "            order\n",
    "        i+=1\n",
    "            \n",
    "    answer=0\n",
    "    return answer"
   ]
  },
  {
   "cell_type": "code",
   "execution_count": null,
   "id": "b7e0739d",
   "metadata": {},
   "outputs": [],
   "source": [
    "# 다른 사람 풀이 \n",
    "\n",
    "def solution(priorities, location):\n",
    "    answer = 0\n",
    "    from collections import deque\n",
    "\n",
    "    d = deque([(v,i) for i,v in enumerate(priorities)])\n",
    "\n",
    "    while len(d):\n",
    "        item = d.popleft()\n",
    "        if d and max(d)[0] > item[0]:\n",
    "              d.append(item)\n",
    "        else:\n",
    "            answer += 1\n",
    "            if item[1] == location:\n",
    "                break\n",
    "    return answer"
   ]
  }
 ],
 "metadata": {
  "kernelspec": {
   "display_name": "Python 3 (ipykernel)",
   "language": "python",
   "name": "python3"
  },
  "language_info": {
   "codemirror_mode": {
    "name": "ipython",
    "version": 3
   },
   "file_extension": ".py",
   "mimetype": "text/x-python",
   "name": "python",
   "nbconvert_exporter": "python",
   "pygments_lexer": "ipython3",
   "version": "3.9.7"
  }
 },
 "nbformat": 4,
 "nbformat_minor": 5
}
