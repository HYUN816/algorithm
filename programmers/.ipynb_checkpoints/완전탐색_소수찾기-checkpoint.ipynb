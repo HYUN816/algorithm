{
 "cells": [
  {
   "cell_type": "markdown",
   "id": "308dc1b7",
   "metadata": {},
   "source": [
    "220309"
   ]
  },
  {
   "cell_type": "code",
   "execution_count": null,
   "id": "d2ac5893",
   "metadata": {},
   "outputs": [],
   "source": [
    "# 내 풀이 - 처음 생각한 답안\n",
    "\n",
    "# 사고의 흐름\n",
    "# 1. 순열로 여러가지 경우의 수를 배열 (이때 모든 수를 다 안써도 됨)\n",
    "# 2. set으로 중복 제거 \n",
    "# 3. 소수찾는 알고리즘 : 1부터 숫자까지 나눠서 나머지가 0인 개수가 2일 때 answer를 1씩 더해줌 \n",
    "\n",
    "# 문제 : cnt를 구하기 위해 1부터 숫자까지 탐색해야함 -> 시간초과 로 실패 \n",
    "\n",
    "\n",
    "from itertools import permutations\n",
    "\n",
    "def solution(numbers):\n",
    "    num_li =[]\n",
    "    for i in range(len(numbers)) :\n",
    "        for num in permutations(list(numbers),i+1):\n",
    "            num_li.append(int(\"\".join(list(num))))\n",
    "    num_li = list(set(num_li))\n",
    "    answer = 0\n",
    "    \n",
    "    for num in num_li:\n",
    "        cnt=0\n",
    "        for j in range(num_li) : \n",
    "            if num%(j+1) ==0 : \n",
    "                cnt+=1\n",
    "        if cnt ==2 : \n",
    "            answer+=1 \n",
    "\n",
    "    return answer"
   ]
  },
  {
   "cell_type": "code",
   "execution_count": null,
   "id": "5d6aaf05",
   "metadata": {},
   "outputs": [],
   "source": [
    "# 내 풀이 - 두번째\n",
    "\n",
    "# 첫번째 풀이의 문제점이 런타임 에러\n",
    "# 소수찾는 알고리즘 변경 : 2,num-1까지 나눴을 때 나머지가 0인 경우 break로 빠르게 탐색 \n",
    "# 탐색은 되지만, answer+=1과 같이 활용할 수 없음 -> notprime_li 에 넣은 후 비교로 다시 list만들기\n",
    "# 다만, 0,1을 list에서 제외를 시킬 수 없음 \n",
    "# -> list comprehension사용하여 위의 두가지 조건을 만족하는 list를 만들어서 list요소개수를 반환\n",
    "\n",
    "from itertools import permutations\n",
    "    \n",
    "def solution(numbers):\n",
    "    num_li =[]\n",
    "    for i in range(len(list(numbers))) :\n",
    "        for num in permutations(list(numbers),i+1):\n",
    "            num_li.append(int(\"\".join(list(num))))\n",
    "    num_li = list(set(num_li))\n",
    "\n",
    "    answer = 0\n",
    "    notprime_li=[]\n",
    "    for num in num_li:\n",
    "        for j in range(2, num) : \n",
    "            if num%j ==0 : \n",
    "                notprime_li.append(num)\n",
    "                break\n",
    "    print(notprime_li)         \n",
    "    answer_li = [i for i in num_li if (i not in notprime_li and i>1)]\n",
    "    print(answer_li)\n",
    "    return len(answer_li)"
   ]
  },
  {
   "cell_type": "code",
   "execution_count": 6,
   "id": "f3379a85",
   "metadata": {},
   "outputs": [],
   "source": [
    "# 더 나은 풀이 \n",
    "\n",
    "# 에라토스테네스 체: 소수를 찾는 방법 (체를 거르듯이 숫자 거름)\n",
    "\n",
    "from itertools import permutations\n",
    "\n",
    "def solution(n):\n",
    "    a = set()\n",
    "    # 내 풀이에서 길이를 사용할 때 굳이 list로 변환시킬 필요없었음\n",
    "    for i in range(len(n)):\n",
    "        # | -> set의 합집합 연산자 \n",
    "        a |= set(map(int, map(\"\".join, permutations(list(n), i + 1))))\n",
    "    \n",
    "    # 소수가 아닌 0,1 제외\n",
    "    # - : set의 차집합 연산자\n",
    "    a -= set(range(0, 2))\n",
    "    \n",
    "    #수들은 약수가 대칭적으로 나오기 때문에 n의 약수는 sqrt(n)까지만 찾아보면 됨\n",
    "    for i in range(2, int(max(a) ** 0.5) + 1):\n",
    "        # 에라토스테네스 체 : 2,3,5,7을 제외한 2,3,5,7의 배수 제거 ; 소수면 자기자신을 제외한 그 배수 제거  \n",
    "        a -= set(range(i * 2, max(a) + 1, i))\n",
    "    return len(a)"
   ]
  },
  {
   "cell_type": "markdown",
   "id": "5b558f0b",
   "metadata": {},
   "source": [
    "### set 함수\n",
    "\n",
    "- https://wikidocs.net/16044"
   ]
  }
 ],
 "metadata": {
  "kernelspec": {
   "display_name": "Python 3 (ipykernel)",
   "language": "python",
   "name": "python3"
  },
  "language_info": {
   "codemirror_mode": {
    "name": "ipython",
    "version": 3
   },
   "file_extension": ".py",
   "mimetype": "text/x-python",
   "name": "python",
   "nbconvert_exporter": "python",
   "pygments_lexer": "ipython3",
   "version": "3.9.7"
  }
 },
 "nbformat": 4,
 "nbformat_minor": 5
}
