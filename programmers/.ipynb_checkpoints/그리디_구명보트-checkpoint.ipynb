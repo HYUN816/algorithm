{
 "cells": [
  {
   "cell_type": "markdown",
   "id": "50892f59",
   "metadata": {},
   "source": [
    "220413"
   ]
  },
  {
   "cell_type": "code",
   "execution_count": null,
   "id": "028391f2",
   "metadata": {},
   "outputs": [],
   "source": [
    "# 내풀이 - 테스트만 정답\n",
    "\n",
    "from collections import deque\n",
    "def solution(people, limit):\n",
    "    queue = deque(people)\n",
    "    \n",
    "    answer = len(people)\n",
    "    # 한번에 최대 2명씩밖에 탐 \n",
    "    # people에서 하나 뽑아서 나머지 요소 돌면서 100이 될 수 있는 요소들 구한다음에 pop \n",
    "    # 100이 안되면 break and +1\n",
    "    \n",
    "    while queue : \n",
    "        weight = queue.popleft()\n",
    "        print(weight)\n",
    "        \n",
    "        for i in queue :\n",
    "            if weight + i <=limit : \n",
    "                answer-=1\n",
    "                queue.remove(i)\n",
    "                break\n",
    "        # print(queue)\n",
    "        # print(answer)\n",
    "        \n",
    "    return answer\n",
    "\n",
    "# 내 풀이 문제점 : people 인풋받은 순서대로 확인하기 때문에 합이 최적화되지 않음 \n",
    "# ex) [30, 40, 60, 70], limit=100  -> 내풀이에서는 answer=3, 최적화하면 answer=2"
   ]
  },
  {
   "cell_type": "code",
   "execution_count": 1,
   "id": "73233823",
   "metadata": {},
   "outputs": [],
   "source": [
    "# 다른 풀이 \n",
    "\n",
    "def solution(people, limit) :\n",
    "    answer=0\n",
    "    people.sort()\n",
    "    start, end =0, len(people)-1\n",
    "    \n",
    "    while start<=end : \n",
    "        answer+=1\n",
    "        if people[start] + people[end] <= limit : \n",
    "            start+=1\n",
    "        end-=1\n",
    "        \n",
    "    return answer\n",
    "    "
   ]
  },
  {
   "cell_type": "code",
   "execution_count": null,
   "id": "1592e9ea",
   "metadata": {},
   "outputs": [],
   "source": []
  }
 ],
 "metadata": {
  "kernelspec": {
   "display_name": "Python 3 (ipykernel)",
   "language": "python",
   "name": "python3"
  },
  "language_info": {
   "codemirror_mode": {
    "name": "ipython",
    "version": 3
   },
   "file_extension": ".py",
   "mimetype": "text/x-python",
   "name": "python",
   "nbconvert_exporter": "python",
   "pygments_lexer": "ipython3",
   "version": "3.9.7"
  }
 },
 "nbformat": 4,
 "nbformat_minor": 5
}
