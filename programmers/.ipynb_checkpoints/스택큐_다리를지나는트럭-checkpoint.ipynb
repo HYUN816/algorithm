{
 "cells": [
  {
   "cell_type": "markdown",
   "id": "c20b5c24",
   "metadata": {},
   "source": [
    "220329"
   ]
  },
  {
   "cell_type": "code",
   "execution_count": null,
   "id": "db4e739d",
   "metadata": {},
   "outputs": [],
   "source": [
    "# 내 풀이 - 못품 ; 코드실행결과 일부 정답\n",
    "\n",
    "from collections import deque\n",
    "\n",
    "def solution(bridge_length, weight, truck_weights):\n",
    "    \n",
    "    # 사고의 흐름\n",
    "    # 다리를 건너고 있는 list ing_li \n",
    "    # 다리를 지난 list = end_li \n",
    "    # truck_weights 에서 하나씩 빼서 ing_li에 넣고 \n",
    "    # ing_li[:bridge_length]의 합이 weight보다 작거나 같을 때 통과 및 시간 +1\n",
    "    # 아닐 때 시간 +1 \n",
    "    # -> xxx\n",
    "    \n",
    "    # 사고의 흐름 다시 \n",
    "    # bridge_length길이 만큼의 list or queue를 만든후 모든원소0\n",
    "    # truck_weights에서 원소를 하나씩 빼서 list or queue에 append\n",
    "    # 동시에 bridge_length 앞의 원소 하나씩 빼기\n",
    "    # list전체 원소의 합이 weight보다 작을 때는 truck_weight의 원소추가\n",
    "    # 아닐 때는 0 추가 \n",
    "    # time+=1 로 list의 모든 원소 합이 0이 될 때까지 loop문 돌리기\n",
    "    \n",
    "    queue = deque([0]*(bridge_length-1))\n",
    "    # print(queue)\n",
    "    queue.popleft()\n",
    "    queue.append(truck_weights[0])\n",
    "    time = 1\n",
    "    # print(sum(queue))\n",
    "    while sum(queue)>0 :\n",
    "        if sum(queue) <= weight : \n",
    "            if truck_weights :\n",
    "                queue.popleft()\n",
    "                queue.append(truck_weights.pop(0))\n",
    "            else : \n",
    "                queue.popleft()\n",
    "                queue.append(0) \n",
    "        else : \n",
    "            queue.popleft()\n",
    "            queue.append(0)\n",
    "        \n",
    "        time+=1\n",
    "    answer = time\n",
    "    return time"
   ]
  },
  {
   "cell_type": "code",
   "execution_count": null,
   "id": "ca7561a7",
   "metadata": {},
   "outputs": [],
   "source": [
    "# 다른 풀이 1\n",
    "\n",
    "def solution(bridge_length, weight, truck_weights):\n",
    "    answer = 0\n",
    "    trucks_on_bridge = [0] * bridge_length\n",
    "    while len(trucks_on_bridge):\n",
    "        answer += 1\n",
    "        trucks_on_bridge.pop(0)\n",
    "        if truck_weights:\n",
    "            if sum(trucks_on_bridge) + truck_weights[0] <= weight:\n",
    "                trucks_on_bridge.append(truck_weights.pop(0))\n",
    "            else:\n",
    "                trucks_on_bridge.append(0)\n",
    "    return answer\n",
    "\n",
    "# 해당 코드에서는 while 뒤에 list 그대로 넣을경우 시간초과 \n",
    "# sum을 쓸 경우 while 뒤에 len을 같이 써줘야함 "
   ]
  },
  {
   "cell_type": "markdown",
   "id": "0f5ca3ac",
   "metadata": {},
   "source": [
    "https://jungeun960.tistory.com/169\n",
    "\n",
    "시간 복잡도 : https://wiki.python.org/moin/TimeComplexity\n",
    "\n",
    "big o notation : https://noahlogs.tistory.com/27"
   ]
  },
  {
   "cell_type": "code",
   "execution_count": null,
   "id": "f650e3a0",
   "metadata": {},
   "outputs": [],
   "source": [
    "# 다른 풀이 2\n",
    "\n",
    "from collections import deque\n",
    "\n",
    "def solution(bridge_length, weight, truck_weights):\n",
    "    bridge = deque(0 for _ in range(bridge_length))\n",
    "    total_weight = 0\n",
    "    step = 0\n",
    "    truck_weights.reverse()\n",
    "\n",
    "    while truck_weights:\n",
    "        total_weight -= bridge.popleft()\n",
    "        if total_weight + truck_weights[-1] > weight:\n",
    "            bridge.append(0)\n",
    "        else:\n",
    "            truck = truck_weights.pop()\n",
    "            bridge.append(truck)\n",
    "            total_weight += truck\n",
    "        step += 1\n",
    "\n",
    "    step += bridge_length\n",
    "\n",
    "    return step"
   ]
  },
  {
   "cell_type": "code",
   "execution_count": null,
   "id": "20d1347f",
   "metadata": {},
   "outputs": [],
   "source": []
  }
 ],
 "metadata": {
  "kernelspec": {
   "display_name": "Python 3 (ipykernel)",
   "language": "python",
   "name": "python3"
  },
  "language_info": {
   "codemirror_mode": {
    "name": "ipython",
    "version": 3
   },
   "file_extension": ".py",
   "mimetype": "text/x-python",
   "name": "python",
   "nbconvert_exporter": "python",
   "pygments_lexer": "ipython3",
   "version": "3.9.7"
  }
 },
 "nbformat": 4,
 "nbformat_minor": 5
}
