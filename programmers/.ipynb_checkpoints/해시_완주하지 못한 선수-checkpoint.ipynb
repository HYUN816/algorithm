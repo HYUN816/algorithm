{
 "cells": [
  {
   "cell_type": "markdown",
   "id": "2dc3d18d",
   "metadata": {},
   "source": [
    "220301"
   ]
  },
  {
   "cell_type": "code",
   "execution_count": null,
   "id": "74dd894c",
   "metadata": {},
   "outputs": [],
   "source": [
    "# 내풀이 \n",
    "\n",
    "# 맨 처음에 생각했던 풀이 \n",
    "\n",
    "def solution(participant, completion):\n",
    "    participant.sort()\n",
    "    completion.sort()\n",
    "    \n",
    "    for i in range(len(compeltion)):\n",
    "        if participant[i]!=completion[i]:\n",
    "            answer=participant[i]\n",
    "    return answer\n",
    "\n",
    "# 첫번째 에러 : unbounded error\n",
    "# answer=\"\"추가 후 답이 틀림\n",
    "# else 문 추가 \n",
    "# break "
   ]
  },
  {
   "cell_type": "code",
   "execution_count": null,
   "id": "3b16ca4a",
   "metadata": {},
   "outputs": [],
   "source": [
    "# 내 풀이 - 정답\n",
    "\n",
    "def solution(participant, completion):\n",
    "    \n",
    "    participant.sort()\n",
    "    completion.sort()\n",
    "    \n",
    "#     participant=sorted(participant)\n",
    "#     completion = sorted(completion)\n",
    "    \n",
    "    # 첫번째 에러\n",
    "    # UnboundLocalError: local variable 'answer' referenced before assignment\n",
    "    # 전역변수를 지역변수로 호출했기 때문에 나타나는 에러\n",
    "    answer = ''\n",
    "    # global answer\n",
    "    \n",
    "    # if문에 충족하지 못하는 조건일 때 answer가 없기 때문에 return answer불가능\n",
    "    # 그래서 에러가 난것 \n",
    "    # 또한 answer=\"\"을 할 경우 else문이 없을 때 answer=\"\"이 되서 틀렸던 것 \n",
    "    \n",
    "    for i in range(len(completion)):\n",
    "        if participant[i]!=completion[i]:\n",
    "            answer=participant[i]\n",
    "            # 두번째 에러 : if 조건에 맞으면, answer가 계속 바뀌기 때문에 break 걸어줘야한다. \n",
    "            break\n",
    "        else : \n",
    "            answer=participant[i+1]\n",
    "\n",
    "    return answer"
   ]
  },
  {
   "cell_type": "code",
   "execution_count": null,
   "id": "d036e784",
   "metadata": {},
   "outputs": [],
   "source": [
    "# 더 나은 풀이 - collections 모듈 사용\n",
    "\n",
    "import collections\n",
    "\n",
    "def solution(participant, completion):\n",
    "    answer = collections.Counter(participant) - collections.Counter(completion)\n",
    "    return list(answer.keys())[0]\n"
   ]
  },
  {
   "cell_type": "markdown",
   "id": "db4de418",
   "metadata": {},
   "source": [
    "- https://wooaoe.tistory.com/71\n",
    "\n",
    "- collections에 내장된 함수인 Counter()는 Dic과 같이 hash형 자료들의 값의 개수를 셀 때 사용 \n",
    "- Dic처럼 {key:value} 형식으로 만들어짐 \n",
    "- Counter() 객체끼리 빼는 것도 가능, 0 (zero) 나 음수 (minus)의 값들도 가능\n",
    "- 해당하는 값이 없더라도 error가 아닌 0을 반환\n",
    "\n",
    "Participant의 동명이인이 있다면 {\"mislav\":2}가 되고, Completetion의 mislav는 {\"misav\":1}이기 때문에 연산 과정에서 1개만 남게된다. \n",
    "동일한 횟수라면 0이 되어 사라지게 된다. (정렬 우선)\n",
    "완주하지 못한 선수는 1명으로 정해져 있기 때문에 반환값을 list로 치환후 [0]째 값을 가져온다.\n",
    "\n",
    "\n",
    "카운터끼리 빼기가 가능해서 코드는 깔끔하지만 이렇게 되면 모든 참가자의 경우를 다 탐색해야 하기 때문에 for 문 돌려서 탈락자 발견한 후 바로 미완주자 리턴 하는 것보다 시간은 더 걸린다\n"
   ]
  },
  {
   "cell_type": "code",
   "execution_count": 1,
   "id": "161e3949",
   "metadata": {},
   "outputs": [],
   "source": [
    "# 더 나은 풀이 - 내 풀이 보완\n",
    "\n",
    "def solution(participant, completion):\n",
    "    participant.sort()\n",
    "    completion.sort()\n",
    "    for i in range(len(completion)):\n",
    "        if participant[i] != completion[i]:\n",
    "            return participant[i]\n",
    "    return participant[len(participant)-1]"
   ]
  },
  {
   "cell_type": "code",
   "execution_count": null,
   "id": "96375b7f",
   "metadata": {},
   "outputs": [],
   "source": [
    "# 더 나은 풀이 - zip 사용\n",
    "\n",
    "def solution(participant, completion):\n",
    "    participant.sort()\n",
    "    completion.sort()\n",
    "    for p, c in zip(participant, completion):\n",
    "        if p != c:\n",
    "            return p\n",
    "    return participant[-1]"
   ]
  },
  {
   "cell_type": "code",
   "execution_count": null,
   "id": "96104cfc",
   "metadata": {},
   "outputs": [],
   "source": [
    "# 더 나은 풀이 - 해시 함수 사용\n",
    "\n",
    "def solution(participant, completion):\n",
    "    answer = ''\n",
    "    temp = 0\n",
    "    dic = {}\n",
    "    for part in participant:\n",
    "        dic[hash(part)] = part\n",
    "        temp += int(hash(part))\n",
    "    for com in completion:\n",
    "        temp -= hash(com)\n",
    "    answer = dic[temp]\n",
    "\n",
    "    return answer"
   ]
  },
  {
   "cell_type": "markdown",
   "id": "436870ed",
   "metadata": {},
   "source": [
    "### 자료구조 : 해시 \n",
    "\n",
    "- https://go-coding.tistory.com/30\n",
    "\n",
    "- 해시테이블은 해시함수를 사용하여 키를 해시값으로 매핑하고, 이 해시값을 색인(인덱스) 또는 주소삼아 데이터를 key와 함께 저장하는 자료구조이다. 단순하게 key - value로 이루어진 자료구조\n",
    "- key를 해시함수라는 함수에 Input으로 넣어서 Ouput으로 나오는 것이 Hash(해시)라고 생각하면 되고, 이 Hash(해시)가 저장위치가 된다고 생각하면 된다. 결국 Hash Function는 key로 해시를 만들어내는 함수\n",
    "\n",
    "- 장점\n",
    "        해시테이블은 key-value가 1:1로 매핑되어 있기 때문에 삽입, 삭제, 검색의 과정에서 모두 평균적으로O(1)의 시간복잡도를 가지고 있다.\n",
    "\n",
    "- 단점\n",
    "        해시 충돌이 발생(개방 주소법, 체이닝 과 같은 기법으로 해결해 줘야 한다.)\n",
    "        순서/관계가 있는 배열에는 어울리지 않는다.\n",
    "        공간 효율성이 떨어진다. 데이터가 저장되기 전에 저장공간을 미리 만들어놔야한다. 공간을 만들었지만 공간에 채워지지 않는 경우가 발생한다.\n",
    "        hash function의 의존도가 높다. 해시함수가 복잡하다면 hash를 만들어 내는데 오래 걸릴 것이다.\n",
    "\n",
    "\n"
   ]
  },
  {
   "cell_type": "code",
   "execution_count": null,
   "id": "e556a123",
   "metadata": {},
   "outputs": [],
   "source": []
  }
 ],
 "metadata": {
  "kernelspec": {
   "display_name": "Python 3 (ipykernel)",
   "language": "python",
   "name": "python3"
  },
  "language_info": {
   "codemirror_mode": {
    "name": "ipython",
    "version": 3
   },
   "file_extension": ".py",
   "mimetype": "text/x-python",
   "name": "python",
   "nbconvert_exporter": "python",
   "pygments_lexer": "ipython3",
   "version": "3.9.7"
  }
 },
 "nbformat": 4,
 "nbformat_minor": 5
}
