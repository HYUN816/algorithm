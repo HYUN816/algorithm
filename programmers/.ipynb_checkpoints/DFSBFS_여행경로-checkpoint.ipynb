{
 "cells": [
  {
   "cell_type": "markdown",
   "id": "83b91b25",
   "metadata": {},
   "source": [
    "220324"
   ]
  },
  {
   "cell_type": "code",
   "execution_count": 1,
   "id": "d2fb51fe",
   "metadata": {},
   "outputs": [],
   "source": [
    "# 완전 탐색이 필요한 경우 DFS 이용\n",
    "\n",
    "def solution(tickets):\n",
    "    # 1. 그래프 생성\n",
    "    routes = dict()\n",
    "\n",
    "    for (start, end) in tickets:\n",
    "        routes[start] = routes.get(start, []) + [end]  \n",
    "\n",
    "    # 2. 시작점 - [끝점] 역순으로 정렬    \n",
    "    for r in routes.keys():\n",
    "        routes[r].sort(reverse=True)\n",
    "\n",
    "    # 3. DFS 알고리즘으로 path를 만들어줌.\n",
    "    st = [\"ICN\"]\n",
    "    path = []\n",
    "    \n",
    "    while st:\n",
    "        top = st[-1]\n",
    "\n",
    "        if top not in routes or len(routes[top]) == 0:\n",
    "            path.append(st.pop())\n",
    "        else:\n",
    "            st.append(routes[top][-1])\n",
    "            routes[top] = routes[top][:-1]\n",
    "    \n",
    "    # 4. 만든 path를 거꾸로 돌림.\n",
    "    answer = path[::-1]\n",
    "    return answer"
   ]
  },
  {
   "cell_type": "code",
   "execution_count": 2,
   "id": "8daf3f3a",
   "metadata": {},
   "outputs": [],
   "source": [
    "tickets=[[\"ICN\", \"JFK\"], [\"HND\", \"IAD\"], [\"JFK\", \"HND\"]]"
   ]
  },
  {
   "cell_type": "code",
   "execution_count": null,
   "id": "42552afd",
   "metadata": {},
   "outputs": [],
   "source": []
  }
 ],
 "metadata": {
  "kernelspec": {
   "display_name": "Python 3 (ipykernel)",
   "language": "python",
   "name": "python3"
  },
  "language_info": {
   "codemirror_mode": {
    "name": "ipython",
    "version": 3
   },
   "file_extension": ".py",
   "mimetype": "text/x-python",
   "name": "python",
   "nbconvert_exporter": "python",
   "pygments_lexer": "ipython3",
   "version": "3.9.7"
  }
 },
 "nbformat": 4,
 "nbformat_minor": 5
}
