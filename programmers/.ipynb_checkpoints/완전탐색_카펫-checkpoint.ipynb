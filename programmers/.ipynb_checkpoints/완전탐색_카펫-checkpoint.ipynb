{
 "cells": [
  {
   "cell_type": "markdown",
   "id": "83f5598c",
   "metadata": {},
   "source": [
    "220314"
   ]
  },
  {
   "cell_type": "code",
   "execution_count": null,
   "id": "41f1f982",
   "metadata": {},
   "outputs": [],
   "source": [
    "# 내 풀이 - 수학적 방법 이용\n",
    "\n",
    "def solution(brown, yellow):\n",
    "    \n",
    "    # 2*a + 2*b -4 = brown \n",
    "    # a*b = brown + yellow \n",
    "    \n",
    "    x1 = ((4+brown)+((brown+4)**2 - 16*(brown+yellow))**0.5) / 4\n",
    "    x2 = ((4+brown)-((brown+4)**2 - 16*(brown+yellow))**0.5) / 4\n",
    "#     y1 = (brown+yellow)/x1 \n",
    "#     y2 = (brown+yellow)/x2\n",
    "    \n",
    "    if x1>=x2 : \n",
    "        answer=[int(x1), int(x2)]\n",
    "    else :\n",
    "        answer=[int(x2),int(x1)]\n",
    "\n",
    "    return answer"
   ]
  },
  {
   "cell_type": "code",
   "execution_count": null,
   "id": "031d12e8",
   "metadata": {},
   "outputs": [],
   "source": [
    "# 더 나은 풀이 - 내 풀이 변형(약수 이용)\n",
    "\n",
    "# yellow/i *i = yellow \n",
    "# 전체 가로세로는 yellow 가로세로에 각각 2를 더한 값 ; 2+yellow/i, 2+i\n",
    "# 2*a + 2*b -4 = brown <- 2+yellow/i, 2+i\n",
    "# 2(i+yellow/i) = brown -4 \n",
    "# 또한 i는 낮은 수에서 결정나므로 무조건 yellow/i가 i보다 크거나 같다 \n",
    "\n",
    "def solution(brown, yellow):\n",
    "    for i in range(1, int(yellow**(1/2))+1):\n",
    "        if yellow % i == 0:\n",
    "            if 2*(i + yellow//i) == brown-4:\n",
    "                return [yellow//i+2, i+2]"
   ]
  }
 ],
 "metadata": {
  "kernelspec": {
   "display_name": "Python 3 (ipykernel)",
   "language": "python",
   "name": "python3"
  },
  "language_info": {
   "codemirror_mode": {
    "name": "ipython",
    "version": 3
   },
   "file_extension": ".py",
   "mimetype": "text/x-python",
   "name": "python",
   "nbconvert_exporter": "python",
   "pygments_lexer": "ipython3",
   "version": "3.9.7"
  }
 },
 "nbformat": 4,
 "nbformat_minor": 5
}
