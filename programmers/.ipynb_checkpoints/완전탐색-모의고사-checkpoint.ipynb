{
 "cells": [
  {
   "cell_type": "markdown",
   "id": "0d76f2b7",
   "metadata": {},
   "source": [
    "220308"
   ]
  },
  {
   "cell_type": "code",
   "execution_count": null,
   "id": "075c90ee",
   "metadata": {},
   "outputs": [],
   "source": [
    "# 내 풀이 \n",
    "\n",
    "# 사고의 흐름 \n",
    "# 1. 1,2,3 반복되는 부분 전 까지 list만든 후 list를 반복 \n",
    "# 2. len(answers)길이 만큼 반복하면 적어도 답 이전에 끊기지는 않을 것 \n",
    "# 3. 1,2,3 각각 답변을 맞춰서 cnt\n",
    "# 4. 답변 개수 정렬 \n",
    "# 5. 답변 중복일 경우 처리 \n",
    "\n",
    "\n",
    "def solution(answers):\n",
    "    li_1 = [1,2,3,4,5]*len(answers)\n",
    "    li_2 = [2,1,2,3,2,4,2,5]*len(answers)\n",
    "    li_3 = [3,3,1,1,2,2,4,4,5,5]*len(answers)\n",
    "    \n",
    "    cnt_dic={1:0,2:0,3:0}\n",
    "    for i in range(len(answers)):\n",
    "        if answers[i]==li_1[i]:\n",
    "            cnt_dic[1]+=1\n",
    "        if answers[i]==li_2[i]:\n",
    "            cnt_dic[2]+=1\n",
    "        if answers[i]==li_3[i]:\n",
    "            cnt_dic[3]+=1\n",
    "            \n",
    "    # value로 먼저 reverse sort, 그 후 key로 sort ; key가 3개이고 이미 정렬된 상태라 사실 안해줘도 됨\n",
    "    # key 에서 -를 주면 정렬을 역으로 해준다\n",
    "    cnt_dic = sorted(cnt_dic.items(), key=lambda x : (x[1], -x[0]), reverse=True)\n",
    "    # cnt_dic = sorted(cnt_dic.items(), key=lambda x : x[1], reverse=True)\n",
    "    # print(cnt_dic) //[('a', 5), ('b', 0), ('c', 0)]\n",
    "    \n",
    "    answer=[]\n",
    "    \n",
    "    # 중복 - 제일 첫번째 value와 비교하여 같은 값이 있을 경우 append시켜주면 됨 \n",
    "    for i in range(len(cnt_dic)) : \n",
    "        if cnt_dic[i][1]== cnt_dic[0][1] :\n",
    "            answer.append(cnt_dic[i][0])\n",
    "        \n",
    "    return answer"
   ]
  },
  {
   "cell_type": "code",
   "execution_count": null,
   "id": "a7f40a32",
   "metadata": {},
   "outputs": [],
   "source": [
    "# 더 나은 풀이 - enumerate 이용\n",
    "\n",
    "def solution(answers):\n",
    "    pattern1 = [1,2,3,4,5]\n",
    "    pattern2 = [2,1,2,3,2,4,2,5]\n",
    "    pattern3 = [3,3,1,1,2,2,4,4,5,5]\n",
    "    score = [0, 0, 0]\n",
    "    result = []\n",
    "\n",
    "    for idx, answer in enumerate(answers):\n",
    "        # 나머지를 이용해 idx로 사용해줌\n",
    "        if answer == pattern1[idx%len(pattern1)]:\n",
    "            score[0] += 1\n",
    "        if answer == pattern2[idx%len(pattern2)]:\n",
    "            score[1] += 1\n",
    "        if answer == pattern3[idx%len(pattern3)]:\n",
    "            score[2] += 1\n",
    "\n",
    "    for idx, s in enumerate(score):\n",
    "        if s == max(score):\n",
    "            result.append(idx+1)\n",
    "\n",
    "    return result"
   ]
  },
  {
   "cell_type": "code",
   "execution_count": null,
   "id": "c3b04f29",
   "metadata": {},
   "outputs": [],
   "source": [
    "# 더 나은 풀이 - cycle 함수 이용\n",
    "\n",
    "\n",
    "from itertools import cycle\n",
    "\n",
    "def solution(answers):\n",
    "    giveups = [\n",
    "        cycle([1,2,3,4,5]),\n",
    "        cycle([2,1,2,3,2,4,2,5]),\n",
    "        cycle([3,3,1,1,2,2,4,4,5,5]),\n",
    "    ]\n",
    "    scores = [0, 0, 0]\n",
    "    for num in answers:\n",
    "        for i in range(3):\n",
    "            if next(giveups[i]) == num:\n",
    "                scores[i] += 1\n",
    "    highest = max(scores)\n",
    "\n",
    "    return [i + 1 for i, v in enumerate(scores) if v == highest]"
   ]
  }
 ],
 "metadata": {
  "kernelspec": {
   "display_name": "Python 3 (ipykernel)",
   "language": "python",
   "name": "python3"
  },
  "language_info": {
   "codemirror_mode": {
    "name": "ipython",
    "version": 3
   },
   "file_extension": ".py",
   "mimetype": "text/x-python",
   "name": "python",
   "nbconvert_exporter": "python",
   "pygments_lexer": "ipython3",
   "version": "3.9.7"
  }
 },
 "nbformat": 4,
 "nbformat_minor": 5
}
