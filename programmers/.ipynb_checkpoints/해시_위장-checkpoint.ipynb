{
 "cells": [
  {
   "cell_type": "markdown",
   "id": "1bb94472",
   "metadata": {},
   "source": [
    "220303"
   ]
  },
  {
   "cell_type": "code",
   "execution_count": null,
   "id": "ef144f9b",
   "metadata": {},
   "outputs": [],
   "source": [
    "# 내 풀이 \n",
    "\n",
    "\n",
    "# 첫번째 생각한 풀이\n",
    "# 리스트의 두번째 요소를 key로 잡고 []를 value로 잡아서 []의 길이를 이용하려고 했으나\n",
    "# 아래와 같이 쓰면 이전에 있던 값 사라짐 \n",
    "# clo_dic={}\n",
    "# clo_dic[clothes[i][1]] = clo_dic[clothes[i][0]]\n",
    "\n",
    "\n",
    "# 두번째 생각한 풀이 - 카운터 사용 \n",
    "from collections import Counter\n",
    "\n",
    "def solution(clothes):\n",
    "    clo_li=[]\n",
    "    for i in range(len(clothes)):\n",
    "        clo_li.append(clothes[i][1])\n",
    "    val_li=Counter(clo_li).values()\n",
    "    sum_mul=1\n",
    "    for val in val_li : \n",
    "        sum_mul= sum_mul*(val+1)\n",
    "    \n",
    "    return sum_mul-1"
   ]
  },
  {
   "cell_type": "code",
   "execution_count": null,
   "id": "9e2056be",
   "metadata": {},
   "outputs": [],
   "source": [
    "# 더 나은 풀이 - 첫번째 풀이의 연장선\n",
    "\n",
    "def solution(clothes):\n",
    "    closet = {}\n",
    "    result = 1\n",
    "    for element in clothes:\n",
    "        key = element[1]\n",
    "        value = element[0]\n",
    "        if key in closet:\n",
    "            closet[key].append(value)\n",
    "        else:\n",
    "            closet[key] = [value]\n",
    "\n",
    "    for key in closet.keys():\n",
    "        result = result * (len(closet[key]) + 1)\n",
    "    return result - 1"
   ]
  },
  {
   "cell_type": "code",
   "execution_count": 1,
   "id": "1e676f75",
   "metadata": {},
   "outputs": [],
   "source": [
    "# 더 나은 풀이 - 두번째 풀이의 연장선 \n",
    "\n",
    "def solution(clothes):\n",
    "    from collections import Counter\n",
    "    from functools import reduce\n",
    "    \n",
    "    # list comprehension으로 counter 한줄로 끝내기 \n",
    "    cnt = Counter([kind for name, kind in clothes])\n",
    "    \n",
    "    # reduce 함수의 initializer에 1을 넣어주는 이유 \n",
    "    # 리스트의 요소들이 +1된 요소들의 곱 -1 이 답 \n",
    "    # 하지만 initializer=0(default)이면, 첫번째 요소는 +1이 되지 않음 \n",
    "    # 그래서 initializer=1로 첫번째 x에 1을 넣어줄 수 있도록 하는 것 \n",
    "    answer = reduce(lambda x, y: x*(y+1), cnt.values(), 1) - 1\n",
    "    \n",
    "    return answer"
   ]
  },
  {
   "cell_type": "markdown",
   "id": "2ffc0a47",
   "metadata": {},
   "source": [
    "### reduce함수 \n",
    "\n",
    "- 인자를 누적적으로 적용하여 결과를 반환 \n",
    "\n",
    "- functools.reduce(function, iterable, initializer=None)\n",
    "\n",
    "- https://brownbears.tistory.com/457"
   ]
  },
  {
   "cell_type": "code",
   "execution_count": null,
   "id": "eb93e165",
   "metadata": {},
   "outputs": [],
   "source": [
    "# 더 나은 풀이 \n",
    "\n",
    "def solution(clothes):\n",
    "    answer = 1\n",
    "    dic = dict()\n",
    "    for name, kind in clothes:\n",
    "        if kind not in dic:\n",
    "            dic[kind] = 1\n",
    "        else:\n",
    "            dic[kind] += 1\n",
    "\n",
    "    for val in dic.values():\n",
    "        answer *= (val + 1)\n",
    "\n",
    "    return answer - 1"
   ]
  },
  {
   "cell_type": "markdown",
   "id": "e203a641",
   "metadata": {},
   "source": [
    "### counter 사용가능한 함수 \n",
    "\n",
    "- clear() : 카운터 객체에서 모든 key-value 쌍을 제거\n",
    "- copy() : 카운터 객체의 복사본을 반환\n",
    "- elements() : 카운터 숫자만큼 요소 반환 \n",
    "        ex) 리스트를 가지고 카운터 객체를 만들었다면, 다시 리스트로 돌리는 것, 순서는 바뀜 : list(c2.elements())\n",
    "- get() : 인자로 key를 입력하면 해당 key와 매칭되는 value를 반환\n",
    "- items() : key, value 쌍을 튜플 형태로 반환\n",
    "- keys() : 카운터 객체의 key들을 반환\n",
    "- most_common() : 가장 빈도수가 높은 key, value 쌍부터 튜플 형태로 반환. 인자로 숫자(개수)를 전달하면 가장 빈도수가 높은 것부터 해당 개수만큼의 쌍만이 반환됨\n",
    "\n",
    "- pop() : 인자로 key를 반드시 전달해야 하며, key와 매칭되는 value를 반환하고 해당 key, value 쌍을 카운터 객체에서 제거\n",
    "- popitem() : 전달하는 인자가 없어야 하며, 가장 뒤의 key, value 쌍을 튜플 형태로 반환하고 해당 쌍을 카운터 객체에서 제거\n",
    "- setdefault() : 카운터 객체에 key, value 쌍을 추가할 때 사용할 수 있음\n",
    "                key만 전달하면 카운트 수는 디폴트로 None\n",
    "                key와 함께 default=10과 같이 전달하면 key에 해당하는 카운트에 입력한 숫자가 반영됨\n",
    "- subtract() : iterable을 전달하면 각 요소의 값을 각각 빼주고 그 결과의 카운트는 마이너스 값을 가질 수도 있음\n",
    "- update() : iterable을 전달하여 같은 값이 있으면 카운트가 추가되게 하고 없으면 새로운 key, value 쌍을 생성\n",
    "- values() : 카운터 객체의 value, 즉 카운트들을 반환\n",
    "\n",
    "\n",
    "https://ek-koh.github.io/python/counter/"
   ]
  },
  {
   "cell_type": "markdown",
   "id": "865cc0ee",
   "metadata": {},
   "source": [
    "### dictionary \n",
    "\n",
    "- 파이썬의 mapping type 중 하나\n",
    "- '순서와 중복을 허용하지 않는다'가 파이썬 Dictionary의 가장 큰 특징(순서 X, 중복 X, 수정 O, 삭제 O)\n",
    "- key:value 형태\n",
    "- key에는 list. dict 등과 같이 내용이 바뀔 수 있는 object는 사용할 수 없습니다.\n",
    "\n",
    "- https://yang-wistory1009.tistory.com/38\n",
    "\n",
    "\n",
    "- method\n",
    "https://www.w3schools.com/python/python_dictionaries_methods.asp\n",
    "\n",
    "- method의 반환값\n",
    "https://develope-myself.tistory.com/113"
   ]
  }
 ],
 "metadata": {
  "kernelspec": {
   "display_name": "Python 3 (ipykernel)",
   "language": "python",
   "name": "python3"
  },
  "language_info": {
   "codemirror_mode": {
    "name": "ipython",
    "version": 3
   },
   "file_extension": ".py",
   "mimetype": "text/x-python",
   "name": "python",
   "nbconvert_exporter": "python",
   "pygments_lexer": "ipython3",
   "version": "3.9.7"
  }
 },
 "nbformat": 4,
 "nbformat_minor": 5
}
