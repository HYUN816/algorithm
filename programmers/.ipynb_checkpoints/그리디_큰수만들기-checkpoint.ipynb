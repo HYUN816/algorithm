{
 "cells": [
  {
   "cell_type": "markdown",
   "id": "1ddc9093",
   "metadata": {},
   "source": [
    "220412"
   ]
  },
  {
   "cell_type": "code",
   "execution_count": null,
   "id": "47758a2f",
   "metadata": {},
   "outputs": [],
   "source": [
    "# 내 풀이 - 못품\n",
    "\n",
    "from collections import deque\n",
    "def solution(number, k):\n",
    "    queue=deque(number)\n",
    "    answer=''\n",
    "   \n",
    "    answer_li=[]\n",
    "    \n",
    "    # 두번째 시도 : index error\n",
    "    # while queue :\n",
    "    #     num = queue.popleft()\n",
    "    #     if num>=queue[0] :\n",
    "    #         answer_li.append(num)\n",
    "    #         queue.append(0)\n",
    "    #     else :\n",
    "    #         k-=1\n",
    "    #     if k==0 :\n",
    "    #         break\n",
    "            \n",
    "    # 첫번째 시도 : index error\n",
    "    # while k>0 :  \n",
    "    #     if number[0]<number[1] :\n",
    "    #         number=number[1:]\n",
    "    #         # k-=1\n",
    "    #     else :\n",
    "    #         answer_li.append(number[0])\n",
    "    # print(answer_li)\n",
    "    return answer\n"
   ]
  },
  {
   "cell_type": "code",
   "execution_count": 14,
   "id": "676ab5ae",
   "metadata": {},
   "outputs": [],
   "source": [
    "# 다른 풀이 \n",
    "\n",
    "def solution(number, k):\n",
    "    answer = ''\n",
    "    stk = []\n",
    "    for i in number:\n",
    "        while stk and stk[-1] < i and k>0:\n",
    "            k-=1\n",
    "            stk.pop()\n",
    "        stk.append(i)\n",
    "        print(i, stk)\n",
    "        \n",
    "    # answer는 number의 길이 - k만큼 슬라이싱 해준다.\n",
    "    # -> 슬라이싱은 index 바깥으로 나가도 괜찮음! \n",
    "    # 일반적으로 k는 0일텐데 ex) k = 3 number = 1000000 이런 경우엔 k는 처음 인풋받은 그대로 유지됨\n",
    "    # 이럴 때 답은 뒷 숫자를 k개만큼 없애준 1000 이므로 슬라이싱을 len(number) - k로 해주는 것\n",
    "    return \"\".join(stk[:len(stk)-k])"
   ]
  },
  {
   "cell_type": "code",
   "execution_count": 15,
   "id": "18de868f",
   "metadata": {},
   "outputs": [
    {
     "name": "stdout",
     "output_type": "stream",
     "text": [
      "1 ['1']\n",
      "9 ['9']\n",
      "2 ['9', '2']\n",
      "4 ['9', '4']\n"
     ]
    },
    {
     "data": {
      "text/plain": [
       "'94'"
      ]
     },
     "execution_count": 15,
     "metadata": {},
     "output_type": "execute_result"
    }
   ],
   "source": [
    "solution(\"1924\",2)"
   ]
  },
  {
   "cell_type": "code",
   "execution_count": 16,
   "id": "1a916d4a",
   "metadata": {},
   "outputs": [
    {
     "name": "stdout",
     "output_type": "stream",
     "text": [
      "1 ['1']\n",
      "2 ['2']\n",
      "3 ['3']\n",
      "1 ['3', '1']\n",
      "2 ['3', '2']\n",
      "3 ['3', '2', '3']\n",
      "4 ['3', '2', '3', '4']\n"
     ]
    },
    {
     "data": {
      "text/plain": [
       "'3234'"
      ]
     },
     "execution_count": 16,
     "metadata": {},
     "output_type": "execute_result"
    }
   ],
   "source": [
    "solution('1231234',3)"
   ]
  },
  {
   "cell_type": "code",
   "execution_count": 17,
   "id": "dbc5d8b4",
   "metadata": {},
   "outputs": [
    {
     "name": "stdout",
     "output_type": "stream",
     "text": [
      "4 ['4']\n",
      "1 ['4', '1']\n",
      "7 ['7']\n",
      "7 ['7', '7']\n",
      "2 ['7', '7', '2']\n",
      "5 ['7', '7', '5']\n",
      "2 ['7', '7', '5', '2']\n",
      "8 ['7', '7', '5', '8']\n",
      "4 ['7', '7', '5', '8', '4']\n",
      "1 ['7', '7', '5', '8', '4', '1']\n"
     ]
    },
    {
     "data": {
      "text/plain": [
       "'775841'"
      ]
     },
     "execution_count": 17,
     "metadata": {},
     "output_type": "execute_result"
    }
   ],
   "source": [
    "solution(\"4177252841\",4)"
   ]
  },
  {
   "cell_type": "code",
   "execution_count": null,
   "id": "70d46ba3",
   "metadata": {},
   "outputs": [],
   "source": []
  }
 ],
 "metadata": {
  "kernelspec": {
   "display_name": "Python 3 (ipykernel)",
   "language": "python",
   "name": "python3"
  },
  "language_info": {
   "codemirror_mode": {
    "name": "ipython",
    "version": 3
   },
   "file_extension": ".py",
   "mimetype": "text/x-python",
   "name": "python",
   "nbconvert_exporter": "python",
   "pygments_lexer": "ipython3",
   "version": "3.9.7"
  }
 },
 "nbformat": 4,
 "nbformat_minor": 5
}
