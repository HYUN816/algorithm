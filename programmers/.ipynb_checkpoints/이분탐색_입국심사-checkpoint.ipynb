{
 "cells": [
  {
   "cell_type": "code",
   "execution_count": null,
   "id": "42b3f945",
   "metadata": {},
   "outputs": [],
   "source": [
    "# 내 풀이 - 못품\n",
    "\n",
    "# 처음 생각한 방안 : 7, 10의 배수가 담긴 리스트를 만들어서 순차적으로 부여?\n",
    "# 주어진 times 의 길이가 길면 비효율적\n",
    "# 또한 마지막에 주어진 조건인 더 빨리 끝나는 심사대가 있으면 기다렸다가 그곳으로 가서 심사를 받을수도 있다를 만족시키기 어려움\n",
    "\n"
   ]
  },
  {
   "cell_type": "code",
   "execution_count": 5,
   "id": "427e9ffb",
   "metadata": {},
   "outputs": [],
   "source": [
    "# 다른 풀이 \n",
    "\n",
    "def solution(n, times):\n",
    "    answer = 0\n",
    "    # right는 가장 비효율적으로 심사했을 때 걸리는 시간\n",
    "    # 가장 긴 심사시간이 소요되는 심사관에게 n 명 모두 심사받는 경우이다.\n",
    "    left, right = 1, max(times) * n\n",
    "    # left = min(times)\n",
    "    while left <= right:\n",
    "        mid = (left+ right) // 2\n",
    "        people = 0\n",
    "        for time in times:\n",
    "            # people 은 모든 심사관들이 mid분 동안 심사한 사람의 수\n",
    "            people += mid // time\n",
    "            print(mid,time, people)\n",
    "            # 모든 심사관을 거치지 않아도 mid분 동안 n명 이상의 심사를 할 수 있다면 반복문을 나간다.\n",
    "            if people >= n:\n",
    "                break\n",
    "        \n",
    "        # 심사한 사람의 수가 심사 받아야할 사람의 수(n)보다 많거나 같은 경우\n",
    "        if people >= n:\n",
    "            answer = mid\n",
    "            right = mid - 1\n",
    "        # 심사한 사람의 수가 심사 받아야할 사람의 수(n)보다 적은 경우\n",
    "        elif people < n:\n",
    "            left = mid + 1\n",
    "            \n",
    "    return answer"
   ]
  },
  {
   "cell_type": "code",
   "execution_count": 6,
   "id": "21a99505",
   "metadata": {},
   "outputs": [
    {
     "name": "stdout",
     "output_type": "stream",
     "text": [
      "30 7 4\n",
      "30 10 7\n",
      "15 7 2\n",
      "15 10 3\n",
      "22 7 3\n",
      "22 10 5\n",
      "26 7 3\n",
      "26 10 5\n",
      "28 7 4\n",
      "28 10 6\n",
      "27 7 3\n",
      "27 10 5\n"
     ]
    },
    {
     "data": {
      "text/plain": [
       "28"
      ]
     },
     "execution_count": 6,
     "metadata": {},
     "output_type": "execute_result"
    }
   ],
   "source": [
    "solution(6,[7,10])"
   ]
  },
  {
   "cell_type": "markdown",
   "id": "57391def",
   "metadata": {},
   "source": [
    "https://sohee-dev.tistory.com/123\n",
    "\n",
    "이분탐색 할 때 '이분탐색의 범위는 무엇으로 할지', '이분탐색의 기준을 무엇으로 할지'를 잡아야한다. "
   ]
  }
 ],
 "metadata": {
  "kernelspec": {
   "display_name": "Python 3 (ipykernel)",
   "language": "python",
   "name": "python3"
  },
  "language_info": {
   "codemirror_mode": {
    "name": "ipython",
    "version": 3
   },
   "file_extension": ".py",
   "mimetype": "text/x-python",
   "name": "python",
   "nbconvert_exporter": "python",
   "pygments_lexer": "ipython3",
   "version": "3.9.7"
  }
 },
 "nbformat": 4,
 "nbformat_minor": 5
}
