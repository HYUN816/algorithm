{
 "cells": [
  {
   "cell_type": "markdown",
   "id": "3d1c694a",
   "metadata": {},
   "source": [
    "220411"
   ]
  },
  {
   "cell_type": "code",
   "execution_count": null,
   "id": "abee5469",
   "metadata": {},
   "outputs": [],
   "source": [
    "# 내 풀이 - 일부 맞음\n",
    "def solution(name):\n",
    "    \n",
    "    alphabet_cnt=[]\n",
    "    for i in name : \n",
    "        alphabet_cnt.append(min(26 -(ord(i)-65), ord(i)-65))\n",
    "        \n",
    "    cnt =0\n",
    "    if name[0] == 'A':\n",
    "        for i in name : \n",
    "            if i == 'A':\n",
    "                cnt+=1 \n",
    "            else :\n",
    "                break\n",
    "    if name[1] =='A' : \n",
    "        for i in name[1:]:\n",
    "            if i =='A' :\n",
    "                cnt+=1 \n",
    "            else :\n",
    "                break\n",
    "    \n",
    "    answer = sum(alphabet_cnt) +len(name) -1 - cnt\n",
    "    return answer"
   ]
  },
  {
   "cell_type": "markdown",
   "id": "8130a048",
   "metadata": {},
   "source": [
    "내풀이 문제점\n",
    "\n",
    "ABAAAAAAAAABB와 같은 예외 케이스가 있다\n",
    "\n",
    "A가 무조건 첫번째 두번째여야 하는 것이 아님 \n",
    "\n",
    "또한 A로 끝나는 CASE도 있을 것 "
   ]
  },
  {
   "cell_type": "code",
   "execution_count": 2,
   "id": "3310536c",
   "metadata": {},
   "outputs": [],
   "source": [
    "# 다른 풀이 \n",
    "\n",
    "def solution(name):\n",
    "    if set(name) == {'A'}:\n",
    "        return 0\n",
    "\n",
    "    answer = float('inf')\n",
    "    for i in range(len(name) // 2): # 반 이상 움직일 필요 없음\n",
    "        left_moved = name[-i:]+name[:-i]\n",
    "        right_moved = name[i:]+name[:i]\n",
    "        print('l',left_moved)\n",
    "        print('r', right_moved)\n",
    "        for n in [left_moved, right_moved[0]+right_moved[:0:-1]]:\n",
    "            while n and n[-1] == 'A':\n",
    "                n = n[:-1]\n",
    "\n",
    "            row_move = i + len(n)-1\n",
    "            col_move = 0\n",
    "            for c in map(ord, n):\n",
    "                col_move += min(c - 65, 91 - c)\n",
    "\n",
    "            answer = min(answer, row_move + col_move)\n",
    "\n",
    "    return answer"
   ]
  },
  {
   "cell_type": "code",
   "execution_count": 5,
   "id": "c605102f",
   "metadata": {},
   "outputs": [
    {
     "name": "stdout",
     "output_type": "stream",
     "text": [
      "l ABAAAAAAAAABB\n",
      "r ABAAAAAAAAABB\n",
      "l BABAAAAAAAAAB\n",
      "r BAAAAAAAAABBA\n",
      "l BBABAAAAAAAAA\n",
      "r AAAAAAAAABBAB\n",
      "l ABBABAAAAAAAA\n",
      "r AAAAAAAABBABA\n",
      "l AABBABAAAAAAA\n",
      "r AAAAAAABBABAA\n",
      "l AAABBABAAAAAA\n",
      "r AAAAAABBABAAA\n"
     ]
    },
    {
     "data": {
      "text/plain": [
       "7"
      ]
     },
     "execution_count": 5,
     "metadata": {},
     "output_type": "execute_result"
    }
   ],
   "source": [
    "solution('ABAAAAAAAAABB')"
   ]
  }
 ],
 "metadata": {
  "kernelspec": {
   "display_name": "Python 3 (ipykernel)",
   "language": "python",
   "name": "python3"
  },
  "language_info": {
   "codemirror_mode": {
    "name": "ipython",
    "version": 3
   },
   "file_extension": ".py",
   "mimetype": "text/x-python",
   "name": "python",
   "nbconvert_exporter": "python",
   "pygments_lexer": "ipython3",
   "version": "3.9.7"
  }
 },
 "nbformat": 4,
 "nbformat_minor": 5
}
