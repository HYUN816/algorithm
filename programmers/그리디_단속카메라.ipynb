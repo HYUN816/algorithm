{
 "cells": [
  {
   "cell_type": "markdown",
   "id": "c9f119d3",
   "metadata": {},
   "source": [
    "220418"
   ]
  },
  {
   "cell_type": "code",
   "execution_count": 1,
   "id": "350e646e",
   "metadata": {},
   "outputs": [],
   "source": [
    "# 다른 풀이 \n",
    "\n",
    "def solution(routes):\n",
    "    answer = 0\n",
    "    routes.sort(key=lambda x: x[1]) # routes를 차량이 나간 지점 (진출) 기준으로 정렬\n",
    "    camera = -30001 # -30001부터 카메라 위치를 찾습니다.\n",
    "\n",
    "    for route in routes:\n",
    "        if camera < route[0]:\n",
    "            answer += 1\n",
    "            camera = route[1]\n",
    "    return answer"
   ]
  },
  {
   "cell_type": "markdown",
   "id": "d70d79f0",
   "metadata": {},
   "source": [
    "https://wwlee94.github.io/category/algorithm/greedy/speed-enforcement-camera/\n",
    "\n",
    "- 진출 지점 기준으로 정렬 후 카메라에 걸리는 지 확인하는 방법\n",
    "\n",
    "  진출 지점에 카메라를 설치하는 이유는 다음 구간의 차량의 진입 시점과 비교하면 설치한 카메라에 걸리는 지 O(N)으로 확인이 가능하다\n",
    "\n",
    "\n",
    "1. 진출 지점 기준으로 오름 차순 정렬합니다. (routes[1] 기준)\n",
    "2. 최대 -30000이니 초기 카메라 위치를 -30001로 초기화 해줍니다.\n",
    "3. routes 배열을 반복하면서 카메라가 진입 지점(route[0])보다 작은지 확인합니다.\n",
    "4. 작다면, 현재 카메라 위치로 해당 차량을 만나지 못했다는 의미이니\n",
    "\n",
    " 4-1. 카메라를 추가로 세우고\n",
    " 4-2. 가장 최근 카메라의 위치(route[1])를 갱신합니다."
   ]
  },
  {
   "cell_type": "code",
   "execution_count": null,
   "id": "8a18de04",
   "metadata": {},
   "outputs": [],
   "source": []
  }
 ],
 "metadata": {
  "kernelspec": {
   "display_name": "Python 3 (ipykernel)",
   "language": "python",
   "name": "python3"
  },
  "language_info": {
   "codemirror_mode": {
    "name": "ipython",
    "version": 3
   },
   "file_extension": ".py",
   "mimetype": "text/x-python",
   "name": "python",
   "nbconvert_exporter": "python",
   "pygments_lexer": "ipython3",
   "version": "3.9.7"
  }
 },
 "nbformat": 4,
 "nbformat_minor": 5
}
