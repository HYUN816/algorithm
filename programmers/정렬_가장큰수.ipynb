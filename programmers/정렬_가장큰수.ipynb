{
 "cells": [
  {
   "cell_type": "markdown",
   "metadata": {},
   "source": [
    "220222"
   ]
  },
  {
   "cell_type": "code",
   "execution_count": null,
   "metadata": {},
   "outputs": [],
   "source": [
    "# 생각한 풀이 - 30분 이내에 못품\n",
    "\n",
    "# 1. 입력된 list의 모든 요소를 str로 변환\n",
    "# 2. 확률하듯이 리스트의 원소를 하나 뽑아서 배열하는 방식\n",
    "\n",
    "# -> 시간때문에 안됨 https://dailyheumsi.tistory.com/102\n",
    "# 조합하는 시간은 약 O(len(numbers)!)\n",
    "# 그런데, 조건 1 < numbers < 100,000  -> O(100000!) 은 절대 1초 내로 안들어오므로, 이 알고리즘은 사용할 수 없다.\n",
    "# number 를 정렬한다거나, 탐색할 때, O(n log n) 안으로 해결 해야 한다는걸 늘 생각해야 한다\n",
    "# 보통, 이렇게 루프로 시간문제가 걸리는 경우, 배열 내 아이템을 '미리' 전처리 해주는 방법을 쓰곤한다.\n",
    "\n",
    "\n",
    "# 3. 배열한 원소들을 다른 리스트에 넣고, int로 변경\n",
    "# 4. max인 요소를 뽑은뒤 다시 str로 변경시키기 "
   ]
  },
  {
   "cell_type": "code",
   "execution_count": 2,
   "metadata": {
    "ExecuteTime": {
     "end_time": "2022-02-23T06:40:11.318003Z",
     "start_time": "2022-02-23T06:40:11.307000Z"
    }
   },
   "outputs": [
    {
     "name": "stdout",
     "output_type": "stream",
     "text": [
      "['0', '0', '0', '0']\n",
      "['0', '0', '0', '0']\n"
     ]
    },
    {
     "data": {
      "text/plain": [
       "'0'"
      ]
     },
     "execution_count": 2,
     "metadata": {},
     "output_type": "execute_result"
    }
   ],
   "source": [
    "# 더 나은 풀이1 \n",
    "\n",
    "numbers=[0,0,0,0]\n",
    "\n",
    "def solution(numbers):\n",
    "    \n",
    "    numbers = list(map(str, numbers))\n",
    "    print(numbers)\n",
    "    \n",
    "    numbers.sort(key=lambda x: x * 3, reverse=True)\n",
    "    # 3을 곱하는 이유: 전체 자릿수를 맞춰준 뒤 비교 -> 0<numbers<1000\n",
    "    # sorr, sorted에는 key,reverse 등의 파라미터가 있따\n",
    "    # key값을 기준으로 정렬\n",
    "    print(numbers)\n",
    "#     return str(''.join(numbers))\n",
    "    return str(int(''.join(numbers)))\n",
    "\n",
    "# 여기에 int를 굳이 써야하나????\n",
    "# 만약 numbers=[0,0,0,0] 이라면 0 이 나와야 한다.\n",
    "# join한 값을 int로 만들어 준 후 원하는 return값이 str이기 때문에 다시 str로 변환한다.\n",
    "\n",
    "solution(numbers)\n"
   ]
  },
  {
   "cell_type": "markdown",
   "metadata": {},
   "source": [
    "- sort, sorted : https://ooyoung.tistory.com/59"
   ]
  },
  {
   "cell_type": "code",
   "execution_count": 6,
   "metadata": {},
   "outputs": [
    {
     "name": "stdout",
     "output_type": "stream",
     "text": [
      "[(0, '666'), (1, '101010'), (2, '222')]\n"
     ]
    },
    {
     "data": {
      "text/plain": [
       "'6210'"
      ]
     },
     "execution_count": 6,
     "metadata": {},
     "output_type": "execute_result"
    }
   ],
   "source": [
    "# 더 나은 풀이2 - enumerate사용 \n",
    "\n",
    "numbers=[6,10,2]\n",
    "\n",
    "def solution(number):\n",
    "    answer=''\n",
    "    \n",
    "    number2 = [str(n)*3 for n in numbers]\n",
    "    \n",
    "    number3 = list(enumerate(number2))\n",
    "    print(number3)\n",
    "    number3.sort(key=lambda x :x[1] ,reverse=True)\n",
    "    \n",
    "    for index, value in number3:\n",
    "        answer += str(number[index])\n",
    "\n",
    "    return str(int(answer)) \n",
    "\n",
    "solution(numbers)\n"
   ]
  },
  {
   "cell_type": "markdown",
   "metadata": {},
   "source": [
    "### enumerate 정리 \n",
    "\n",
    "- 인덱스와 원소를 동시에 접근할 수 있도록 해주는 함수\n",
    "- 인덱스와 원소를 각각 다른 변수에 할당하고 싶다면 인자 풀기(unpacking)\n",
    "- 시작 인덱스 바꿀 수 있다. enumerate(iterable, start=1)\n",
    "- 결과값 : 튜플 \n",
    "\n",
    "- https://www.daleseo.com/python-enumerate/"
   ]
  },
  {
   "cell_type": "code",
   "execution_count": null,
   "metadata": {},
   "outputs": [],
   "source": []
  }
 ],
 "metadata": {
  "kernelspec": {
   "display_name": "Python 3 (ipykernel)",
   "language": "python",
   "name": "python3"
  },
  "language_info": {
   "codemirror_mode": {
    "name": "ipython",
    "version": 3
   },
   "file_extension": ".py",
   "mimetype": "text/x-python",
   "name": "python",
   "nbconvert_exporter": "python",
   "pygments_lexer": "ipython3",
   "version": "3.9.7"
  },
  "toc": {
   "base_numbering": 1,
   "nav_menu": {},
   "number_sections": true,
   "sideBar": true,
   "skip_h1_title": false,
   "title_cell": "Table of Contents",
   "title_sidebar": "Contents",
   "toc_cell": false,
   "toc_position": {},
   "toc_section_display": true,
   "toc_window_display": false
  },
  "varInspector": {
   "cols": {
    "lenName": 16,
    "lenType": 16,
    "lenVar": 40
   },
   "kernels_config": {
    "python": {
     "delete_cmd_postfix": "",
     "delete_cmd_prefix": "del ",
     "library": "var_list.py",
     "varRefreshCmd": "print(var_dic_list())"
    },
    "r": {
     "delete_cmd_postfix": ") ",
     "delete_cmd_prefix": "rm(",
     "library": "var_list.r",
     "varRefreshCmd": "cat(var_dic_list()) "
    }
   },
   "types_to_exclude": [
    "module",
    "function",
    "builtin_function_or_method",
    "instance",
    "_Feature"
   ],
   "window_display": false
  }
 },
 "nbformat": 4,
 "nbformat_minor": 4
}
