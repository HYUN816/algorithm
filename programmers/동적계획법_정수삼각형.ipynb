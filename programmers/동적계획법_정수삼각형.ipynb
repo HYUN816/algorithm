{
 "cells": [
  {
   "cell_type": "markdown",
   "id": "4d82a4b1",
   "metadata": {},
   "source": [
    "220420 "
   ]
  },
  {
   "cell_type": "code",
   "execution_count": null,
   "id": "841985ed",
   "metadata": {},
   "outputs": [],
   "source": [
    "# 다른풀이 \n",
    "\n",
    "# 인덱스 에러가 나지 않도록 양 옆에 0을 붙여준다 \n",
    "def solution(triangle):\n",
    "    answer=0\n",
    "    triangle=[[0] + t + [0] for t in triangle]\n",
    "    for i in range(1, len(triangle)):\n",
    "        for j in range(1, i+2):\n",
    "            triangle[i][j] +=max(triangle[i-1][j-1], triangle[i-1][j])\n",
    "    answer=max(trianlge[-1])\n",
    "    return answer\n"
   ]
  },
  {
   "cell_type": "markdown",
   "id": "4ce4ced7",
   "metadata": {},
   "source": [
    "https://velog.io/@younge/Python-%ED%94%84%EB%A1%9C%EA%B7%B8%EB%9E%98%EB%A8%B8%EC%8A%A4-%EC%A0%95%EC%88%98-%EC%82%BC%EA%B0%81%ED%98%95-%EB%8F%99%EC%A0%81%EA%B3%84%ED%9A%8D%EB%B2%95"
   ]
  }
 ],
 "metadata": {
  "kernelspec": {
   "display_name": "Python 3 (ipykernel)",
   "language": "python",
   "name": "python3"
  },
  "language_info": {
   "codemirror_mode": {
    "name": "ipython",
    "version": 3
   },
   "file_extension": ".py",
   "mimetype": "text/x-python",
   "name": "python",
   "nbconvert_exporter": "python",
   "pygments_lexer": "ipython3",
   "version": "3.9.7"
  }
 },
 "nbformat": 4,
 "nbformat_minor": 5
}
