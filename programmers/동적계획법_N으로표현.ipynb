{
 "cells": [
  {
   "cell_type": "markdown",
   "id": "9d117a02",
   "metadata": {},
   "source": [
    "220418"
   ]
  },
  {
   "cell_type": "code",
   "execution_count": null,
   "id": "e25116f4",
   "metadata": {},
   "outputs": [],
   "source": [
    "# 다른 풀이 \n",
    "\n",
    "def solution(N, number):\n",
    "    answer = -1\n",
    "    DP = []\n",
    "\n",
    "    for i in range(1, 9):\n",
    "        numbers = set()\n",
    "        numbers.add( int(str(N) * i) )\n",
    "        \n",
    "        for j in range(0, i-1):\n",
    "            for x in DP[j]:\n",
    "                for y in DP[-j-1]:\n",
    "                    numbers.add(x + y)\n",
    "                    numbers.add(x - y)\n",
    "                    numbers.add(x * y)\n",
    "                    \n",
    "                    if y != 0:\n",
    "                        numbers.add(x // y)\n",
    "\n",
    "        if number in numbers:\n",
    "            answer = i\n",
    "            break\n",
    "        \n",
    "        DP.append(numbers)\n",
    "\n",
    "    return answer "
   ]
  },
  {
   "cell_type": "markdown",
   "id": "be314da3",
   "metadata": {},
   "source": [
    "https://gurumee92.tistory.com/164"
   ]
  }
 ],
 "metadata": {
  "kernelspec": {
   "display_name": "Python 3 (ipykernel)",
   "language": "python",
   "name": "python3"
  },
  "language_info": {
   "codemirror_mode": {
    "name": "ipython",
    "version": 3
   },
   "file_extension": ".py",
   "mimetype": "text/x-python",
   "name": "python",
   "nbconvert_exporter": "python",
   "pygments_lexer": "ipython3",
   "version": "3.9.7"
  }
 },
 "nbformat": 4,
 "nbformat_minor": 5
}
