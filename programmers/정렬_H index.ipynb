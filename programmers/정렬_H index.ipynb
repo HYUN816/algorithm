{
 "cells": [
  {
   "cell_type": "markdown",
   "id": "e9e90406",
   "metadata": {},
   "source": [
    "220223"
   ]
  },
  {
   "cell_type": "code",
   "execution_count": null,
   "id": "424cbd98",
   "metadata": {},
   "outputs": [],
   "source": [
    "# 내 풀이\n",
    "\n",
    "def solution(citations):\n",
    "    answer = 0\n",
    "\n",
    "    citations.sort(reverse=True)\n",
    "#     print(citations)\n",
    "\n",
    "    # 위키백과 https://en.wikipedia.org/wiki/H-index\n",
    "    # h_index= max{i=자연수, f(i)>=i} ; 이때 f(i)는 citations의 요소\n",
    "    \n",
    "    for i in range(len(citations)):\n",
    "        \n",
    "        # 위 식의 i는 자연수 ; 자료는 0 부터 시작 => +1 해줘야함\n",
    "        # if citations[i]> i : 틀린풀이\n",
    "        if citations[i]>=i+1 :\n",
    "            answer+=1\n",
    "                \n",
    "    return answer"
   ]
  },
  {
   "cell_type": "code",
   "execution_count": null,
   "id": "3d0e68e8",
   "metadata": {},
   "outputs": [],
   "source": [
    "# 잘 푼 풀이1\n",
    "\n",
    "def solution(citations):\n",
    "    citations = sorted(citations)\n",
    "    l = len(citations)\n",
    "    for i in range(l):\n",
    "        if citations[i] >= l-i:\n",
    "            # ex ) 3 3 5 8 25  / if 조건 충족은 i=1 / answer = 4 - 1 \n",
    "            return l-i\n",
    "    return 0\n",
    "\n",
    "# 문제에서는 [h번 이상 인용이 몇편인가? -> 그 편수가 h이상인가?] 의 순서로 사고하도록 적어두었습니다만 \n",
    "# 위의 경우는 [지금 몇 편이 남았는가? -> 모든 인용횟수가 이 값보다 큰가?(가장 작은 값이 이 값보다 큰가?)] 로 생각의 순서를 바꾼 것"
   ]
  },
  {
   "cell_type": "code",
   "execution_count": null,
   "id": "3cd85805",
   "metadata": {},
   "outputs": [],
   "source": [
    "# 잘 푼 풀이2 \n",
    "\n",
    "def solution(citations):\n",
    "    citations.sort(reverse=True)\n",
    "    answer = max(map(min, enumerate(citations, start=1)))\n",
    "    return answer\n",
    "\n",
    "\n",
    "# 1) min(index,value) 부분은 가능할 수 있는 모든 h-index를 추출하는 부분 \n",
    "# 2) max(~) 값은 가능할 수 있는 모든 h-index 중 가장 큰 값을 추출하는 부분\n",
    "# ex) citations=[6, 5, 4, 1, 0] \n",
    "# min부분 :min(1, 6), min(2, 5), min(3, 4), min(4, 1), min(5, 0), \n",
    "# 즉 해당 인용수 이상의 논문개수와 해당 논문의 인용수 중 더 작은 숫자를 고르는 작업을 하고(h-index로 가능한 숫자 추출), \n",
    "# max부분은 앞에서 골라진 (1, 2, 3, 1, 0) 중 가장 큰 숫자를 뽑아 실제 h-index를 구하는 방법입니다."
   ]
  },
  {
   "cell_type": "code",
   "execution_count": null,
   "id": "a333aa11",
   "metadata": {},
   "outputs": [],
   "source": [
    "# 아쉬운 풀이 - 이중 for문\n",
    "\n",
    "def solution(citations):\n",
    "    answer = 0\n",
    "    # n, h번 이상 인용된 논문 h편 이상 - 나머지 h번 이하, h의 최댓값이 H-index\n",
    "\n",
    "\n",
    "    # 0부터 max값까지 개수 탐색\n",
    "    for i in range(max(citations)+1):\n",
    "        cnt = 0\n",
    "        for c in citations:\n",
    "            if i <= c:\n",
    "                cnt += 1\n",
    "        if cnt >= i:\n",
    "            answer = i\n",
    "\n",
    "    return answer"
   ]
  }
 ],
 "metadata": {
  "kernelspec": {
   "display_name": "Python 3 (ipykernel)",
   "language": "python",
   "name": "python3"
  },
  "language_info": {
   "codemirror_mode": {
    "name": "ipython",
    "version": 3
   },
   "file_extension": ".py",
   "mimetype": "text/x-python",
   "name": "python",
   "nbconvert_exporter": "python",
   "pygments_lexer": "ipython3",
   "version": "3.9.7"
  }
 },
 "nbformat": 4,
 "nbformat_minor": 5
}
