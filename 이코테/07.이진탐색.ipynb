{
 "cells": [
  {
   "cell_type": "markdown",
   "id": "fa8f06da",
   "metadata": {},
   "source": [
    "- 순차 탐색 : 리스트 안에 있는 특정한 데이터를 찾기 위해 앞에서 부터 데이터를 하나씩 확인하는 방법\n",
    "\n",
    "- 이진 탐색 : **정렬되어 있는 리스트**에서 탐색 범위를 절반씩 좁혀가며 데이터를 탐색하는 방법 \n",
    "    - 이진 탐색은 시작점, 끝점, 중간점을 이용하여 탐색범위를 설정\n",
    "    - 시간복잡도 O(logN)\n",
    "    - 처리해야 할 데이터의 개수가 값이 1000만 단위 이상으로 넘어가면 이진탐색과 같이 O(logN)의 속도를 내야하는 알고리즘을 떠올려야 문제를 풀 수 있다\n",
    "    - 파라메트릭 서치 : 최적화 문제를 결정문제('예' 혹은 '아니오')로 바꾸어 해결하는 기법 ex) 특정한 조건을 만족하는 가장 알맞은 값을 빠르게 찾는 최적화 문제"
   ]
  },
  {
   "cell_type": "code",
   "execution_count": 2,
   "id": "2cef6a7c",
   "metadata": {
    "scrolled": true
   },
   "outputs": [],
   "source": [
    "# 이진 탐색 소스코드 : 재귀적 구현\n",
    "\n",
    "def binary_search(array, target, start, end):\n",
    "    if start>end : \n",
    "        return False\n",
    "    mid = (start+end)//2\n",
    "    # 찾은 경우 중간점 인덱스 반환 \n",
    "    if array[mid] == target : \n",
    "        return mid\n",
    "    # 중간점의 값보다 찾고자 하는 값이 작은 경우 왼쪽 확인\n",
    "    elif array[mid]>target : \n",
    "        return binary_search(array,target,start,mid-1)\n",
    "    # 중간점의 값보다 찾고자 하는 값이 큰 경우 오른쪽 확인\n",
    "    else : \n",
    "        return binary_search(array, target, mid+1, end)\n"
   ]
  },
  {
   "cell_type": "code",
   "execution_count": 3,
   "id": "bcb24f28",
   "metadata": {},
   "outputs": [
    {
     "name": "stdout",
     "output_type": "stream",
     "text": [
      "10 7\n",
      "1 3 5 7 9 11 13 15 17 19\n",
      "4\n"
     ]
    }
   ],
   "source": [
    "# n(원소의 개수)과 target(찾고자 하는 값)을 입력받기\n",
    "n, target = list(map(int, input().split()))\n",
    "# 전체 원소 입력 받기\n",
    "array = list(map(int, input().split()))\n",
    "\n",
    "# 이진 탐색 수행 결과 출력\n",
    "result = binary_search(array, target, 0, n-1)\n",
    "if result == None : \n",
    "    print('원소가 존재하지 않습니다.')\n",
    "else : \n",
    "    print(result+1)"
   ]
  },
  {
   "cell_type": "code",
   "execution_count": null,
   "id": "85dee0ba",
   "metadata": {},
   "outputs": [],
   "source": [
    "# 이진 탐색 소스코드 : 반복문 \n",
    "\n",
    "def binary_search(array, target, start, end):\n",
    "    while start<end : \n",
    "        mid = (start+end)//2\n",
    "        # 찾은 경우 중간점 인덱스 반환 \n",
    "        if array[mid] == target : \n",
    "            return mid\n",
    "        # 중간점의 값보다 찾고자 하는 값이 작은 경우 왼쪽 확인\n",
    "        elif array[mid]>target : \n",
    "            return binary_search(array,target,start,mid-1)\n",
    "        # 중간점의 값보다 찾고자 하는 값이 큰 경우 오른쪽 확인\n",
    "        else : \n",
    "            return binary_search(array, target, mid+1, end)\n",
    "    return None"
   ]
  },
  {
   "cell_type": "code",
   "execution_count": 4,
   "id": "a5320efa",
   "metadata": {},
   "outputs": [
    {
     "name": "stdout",
     "output_type": "stream",
     "text": [
      "2\n",
      "4\n"
     ]
    }
   ],
   "source": [
    "# python 이진탐색 라이브러리 \n",
    "\n",
    "# bisect_left(a,x) : 정렬된 순서를 유지하면서 배열 a에 x를 삽입할 가장 왼쪽 인덱스를 반환\n",
    "# bisect_right(a,x) : 정렬된 순서를 유지하면서 배열 a에 x를 삽입할 가장 오른쪽 인덱스를 반환\n",
    "\n",
    "from bisect import bisect_left, bisect_right\n",
    "\n",
    "a=[1,2,4,4,8]\n",
    "x=4\n",
    "\n",
    "print(bisect_left(a,x))\n",
    "print(bisect_right(a,x))"
   ]
  },
  {
   "cell_type": "code",
   "execution_count": 6,
   "id": "8f347ea1",
   "metadata": {},
   "outputs": [
    {
     "name": "stdout",
     "output_type": "stream",
     "text": [
      "2\n",
      "6\n"
     ]
    }
   ],
   "source": [
    "# 값이 특정 범위에 속하는 데이터 개수 구하기 \n",
    "\n",
    "from bisect import bisect_left, bisect_right\n",
    "\n",
    "# 값이 [left_value, right_value]인 데이터의 개수를 반환하는 함수 \n",
    "def count_by_range(a, left_value, right_value) : \n",
    "    right_index=bisect_right(a, right_value)\n",
    "    left_index=bisect_left(a, left_value)\n",
    "    return right_index - left_index\n",
    "\n",
    "# 배열 선언\n",
    "a=[1,2,3,3,3,3,4,4,8,9]\n",
    "\n",
    "# 값이 4인 데이터 개수 출력\n",
    "print(count_by_range(a,4,4))\n",
    "\n",
    "# 값이 [-1, 3] 범위에 있는 데이터 개수 출력\n",
    "print(count_by_range(a,-1,3))"
   ]
  }
 ],
 "metadata": {
  "kernelspec": {
   "display_name": "Python 3 (ipykernel)",
   "language": "python",
   "name": "python3"
  },
  "language_info": {
   "codemirror_mode": {
    "name": "ipython",
    "version": 3
   },
   "file_extension": ".py",
   "mimetype": "text/x-python",
   "name": "python",
   "nbconvert_exporter": "python",
   "pygments_lexer": "ipython3",
   "version": "3.9.7"
  }
 },
 "nbformat": 4,
 "nbformat_minor": 5
}
