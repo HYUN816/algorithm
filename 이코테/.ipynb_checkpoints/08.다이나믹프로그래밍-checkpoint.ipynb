{
 "cells": [
  {
   "cell_type": "markdown",
   "metadata": {},
   "source": [
    "### 다이나믹 프로그래밍(동적계획법) \n",
    "\n",
    "- 메모리를 적절히 사용하여 수행시간 효율성을 비약적으로 향상시키는 방법\n",
    "- 이미 계산된 결과는 별도의 메모리 영역에 저장하여 다시 계산하지 않도록 한다\n",
    "- 구현방법 : 탑다운(하향식), 보텀업(상향식)\n",
    "- 자료구조에서 동적할당은 프로그램이 실행되는 도중에 실행에 필요한 메모리를 할당하는 기법, 반면에 **다이나믹 프로그래밍에서 다이나믹은 별다른 의미없이 사용된 단어이다**\n",
    "\n",
    "- 다음 조건을 만족할 때 사용가능 \n",
    "- 1. 최적부분구조(optimal substructure) : 큰 문제를 작은 문제로 나눌 수 있으며 작은 문제의 답을 모아서 큰문제를 해결할 수 있습니다. \n",
    "- 2. 중복되는 부분문제(Overlapping subproblem) : 동일한 작은문제를 반복적으로 해결해야 합니다.\n",
    "\n",
    "ex) 피보나치 수열 "
   ]
  },
  {
   "cell_type": "code",
   "execution_count": 1,
   "metadata": {
    "ExecuteTime": {
     "end_time": "2022-04-18T08:25:31.153404Z",
     "start_time": "2022-04-18T08:25:31.147402Z"
    }
   },
   "outputs": [
    {
     "name": "stdout",
     "output_type": "stream",
     "text": [
      "3\n"
     ]
    }
   ],
   "source": [
    "# 피보나치 수열 - 재귀함수 \n",
    "def fibo(x) :\n",
    "    if x==1 or x ==2 : \n",
    "        return 1\n",
    "    return fibo(x-1) + fibo(x-2)\n",
    "\n",
    "print(fibo(4))\n",
    "\n",
    "# 단순 재귀함수로 피보나치 수열을 해결하면 지수 시간 복잡도를 가지게 된다 : O(2^N)\n",
    "# f(2)가 여러번 호출된다 -> 중복되는 부분 문제"
   ]
  },
  {
   "cell_type": "markdown",
   "metadata": {},
   "source": [
    "메모이제이션 : 탑다운 방식의 다이나믹 프로그래밍\n",
    "\n",
    "한번 계산한 결과를 메모리 공간에 메모하는 기법\n",
    "- 같은 문제를 다시 호출하면 메모했던 결과를 그대로 가져온다\n",
    "- 값을 기록해놓는다는 점에서 캐싱(Caching)이라고도 한다."
   ]
  },
  {
   "cell_type": "markdown",
   "metadata": {},
   "source": [
    "탑다운 vs 보텀업\n",
    "\n",
    "- 탑다운 : 구현과정에서 재귀함수 이용 ; \n",
    "        큰문제를 해결하기 위해 작은문제를 재귀적으로 호출하여 작은문제를 모두 해결되었을 때, 큰 문제를 해결할 수 있도록함\n",
    "        그런 과정에서 한번 계산된 결과를 저장하기 위해 메모이제이션을 이용\n",
    "- 보텀업 : 반복문 이용\n",
    "        아래쪽에서 부터 작은 문제를 먼저 해결해나가면서 그 다음의 문제까지 차례대로 해결\n",
    "    \n",
    "\n",
    "\n",
    "- 다이나믹 프로그래밍의 전형적인 형태는 보텀업 방식 \n",
    "결과저장용 리스트는 DP테이블이라고 부른다\n",
    "\n",
    "엄밀히 말하면 메모이제이션은 이전에 계산된 결과를 일시적으로 기록해 놓는 넓은 개념을 의미한다\n",
    "따라서 메모이제이션은 다이나믹 프로그래밍에 국한된 개념은 아님\n",
    "한번 계산된 결과를 담아 놓기만 하고 다이나믹 프로그래밍을 위해 활용하지 않을 수도 있습니다. \n",
    "\n"
   ]
  },
  {
   "cell_type": "code",
   "execution_count": null,
   "metadata": {},
   "outputs": [],
   "source": [
    "# 피보나치함수를 재귀함수로 구현(탑다운 프로그래밍)\n",
    "\n",
    "# 한번 계산된 결과를 메모이제이션하기 위한 리스트 초기화\n",
    "d=[0]*100\n",
    "\n",
    "def fibo(x):\n",
    "    # 종료 조건 (1 혹은 2일 때 1을 반환)\n",
    "    if x==1 or x==2 :\n",
    "        return 1\n",
    "    # 이미 계산한적 있는 문제라면 그대로 반환\n",
    "    if d[x] !=0 :\n",
    "        return d[x]\n",
    "    \n",
    "    # 아직 계산하지 않은 문제라면 점화식에 따라서 피보나치 결과 반환\n",
    "    d[x] = fibo(x-1) + fibo(x-2)\n",
    "    return d[x]\n",
    "\n",
    "print(fibo(99))\n",
    "\n",
    "# 메모이제이션을 이용하는 경우 피보나치 수열 함수의 시간복잡도는 O(N)"
   ]
  },
  {
   "cell_type": "code",
   "execution_count": null,
   "metadata": {},
   "outputs": [],
   "source": [
    "# 피보나치함수 - 보텀업 프로그래밍 \n",
    "\n",
    "# 한번 계산된 결과를 저장하기 위한 DP 테이블 초기화\n",
    "\n",
    "d=[0]*100\n",
    "\n",
    "# 첫번째 피보나치 수와 두 번쨰 피보나치 수는 1\n",
    "d[1]=1\n",
    "d[2]=1\n",
    "n=99\n",
    "\n",
    "# 피보나치 함수 반복문으로 구현\n",
    "for i in range(3,n+1):\n",
    "    d[i]=d[i-1]+d[i-2]\n",
    "\n",
    "print(d[n])"
   ]
  },
  {
   "cell_type": "markdown",
   "metadata": {},
   "source": [
    "다이나믹 프로그래밍 VS 분할정복\n",
    "\n",
    "다이나믹프로그래밍과 분할정복은 모두 최적 부분구조를 가질 때 사용할 수 있다\n",
    " - 큰 문제를 작은 문제로 나눌 수 있으며 작은 문제의 답을 모아서 큰 문제를 해결할 수 있는 상황\n",
    "\n",
    "다이나믹 프로그래밍과 분할정복의 차이점은 **부분 문제의 중복**\n",
    " - 다이나믹 프로그래밍 문제에서는 각 부분 문제들이 서로 영향을 미치며 부분문제가 중복된다\n",
    " - 분할 정복 문제에서는 동일한 부분 문제가 반복적으로 계산되지 않는다."
   ]
  },
  {
   "cell_type": "code",
   "execution_count": null,
   "metadata": {},
   "outputs": [],
   "source": [
    "# 분할정복(divide and conquer) 대표적 예시 - 퀵정렬\n",
    "# 한번 기준 원소(PIVOT)가 자리를 변경해서 자리를 잡으면 그 기준 원소의 위치는 바뀌지 않는다\n",
    "# 분할 이후에 해당 피멋을 다시 처리하는 부분 문제는 호출하지 않는다."
   ]
  },
  {
   "cell_type": "code",
   "execution_count": null,
   "metadata": {},
   "outputs": [],
   "source": [
    "# 다이나믹 프로그래밍 문제에 접근하는 방법\n",
    "\n",
    "- 주어진 문제가 다이나믹 프로그래밍 유형임을 파악하는 것이 중요\n",
    "- 가장 먼저 그리디, 구현, 완전탐색 등의 아이디어로 문제를 해결할 수 있는지 검토\n",
    "    - 다른 알고리즘으로 풀이방법이 떠오르지 않으면 다이나믹 프로그래밍을 고려해볼것\n",
    "- 일단 재귀함수로 비효율적인 완전 탐색 프로그램을 작성한 뒤에 (탑다운) 작은 문제에서 구한 답이 큰 문제에서 그대로 사용될 수 있으면, 코드를 개선하는 방법으로 사용할 수 있다. \n",
    "- 일반적인 코딩 테스트 수준에서는 기본유형의 다이나믹 프로그래밍 문제가 출제되는 경우가 많다 "
   ]
  },
  {
   "cell_type": "code",
   "execution_count": null,
   "metadata": {},
   "outputs": [],
   "source": []
  }
 ],
 "metadata": {
  "kernelspec": {
   "display_name": "Python 3 (ipykernel)",
   "language": "python",
   "name": "python3"
  },
  "language_info": {
   "codemirror_mode": {
    "name": "ipython",
    "version": 3
   },
   "file_extension": ".py",
   "mimetype": "text/x-python",
   "name": "python",
   "nbconvert_exporter": "python",
   "pygments_lexer": "ipython3",
   "version": "3.9.7"
  },
  "toc": {
   "base_numbering": 1,
   "nav_menu": {},
   "number_sections": true,
   "sideBar": true,
   "skip_h1_title": false,
   "title_cell": "Table of Contents",
   "title_sidebar": "Contents",
   "toc_cell": false,
   "toc_position": {},
   "toc_section_display": true,
   "toc_window_display": false
  },
  "varInspector": {
   "cols": {
    "lenName": 16,
    "lenType": 16,
    "lenVar": 40
   },
   "kernels_config": {
    "python": {
     "delete_cmd_postfix": "",
     "delete_cmd_prefix": "del ",
     "library": "var_list.py",
     "varRefreshCmd": "print(var_dic_list())"
    },
    "r": {
     "delete_cmd_postfix": ") ",
     "delete_cmd_prefix": "rm(",
     "library": "var_list.r",
     "varRefreshCmd": "cat(var_dic_list()) "
    }
   },
   "types_to_exclude": [
    "module",
    "function",
    "builtin_function_or_method",
    "instance",
    "_Feature"
   ],
   "window_display": false
  }
 },
 "nbformat": 4,
 "nbformat_minor": 4
}
