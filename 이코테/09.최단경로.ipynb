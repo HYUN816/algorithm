{
 "cells": [
  {
   "cell_type": "code",
   "execution_count": null,
   "id": "74bff6b1",
   "metadata": {},
   "outputs": [],
   "source": []
  },
  {
   "cell_type": "code",
   "execution_count": null,
   "id": "515e3ef0",
   "metadata": {},
   "outputs": [],
   "source": []
  },
  {
   "cell_type": "markdown",
   "id": "110e4d96",
   "metadata": {},
   "source": [
    "\n",
    "\n",
    "스택 : 가장 나중에 삽입된 데이터 추출(LIFO)\n",
    "큐 : 가장 먼저 삽입된 데이터 추출(FIFO)\n",
    "우선순위 큐 : 우선순위가 가장 높은 데이터를 가장 먼저 삭제\n",
    "\n",
    "우선순위 큐 파이선 라이브러리 : PriorityQueue, heapq\n",
    "    일반적으로 heapq가 더 빠르게 동작함 -> 수행시간이 제한된 상황에서 사용\n",
    "    - 최소힙 : 값이 작은 데이터가 먼저 삭제됨 \n",
    "    - 최대힙 : 값이 큰 데이터가 먼저 삭제됨\n",
    "    파이썬 라이브러리에서는 기본적으로 최소힙 구조를 이용함 \n",
    "    -> 최대힙을 사용하기 위해서 우선순위에 해당하는 값에 (-)를 붙여서 넣었다가 나중에 우선순위큐에서 꺼낸다음 (-)를 다시 붙여줌\n",
    "    \n",
    "    \n",
    "   "
   ]
  }
 ],
 "metadata": {
  "kernelspec": {
   "display_name": "Python 3 (ipykernel)",
   "language": "python",
   "name": "python3"
  },
  "language_info": {
   "codemirror_mode": {
    "name": "ipython",
    "version": 3
   },
   "file_extension": ".py",
   "mimetype": "text/x-python",
   "name": "python",
   "nbconvert_exporter": "python",
   "pygments_lexer": "ipython3",
   "version": "3.9.7"
  }
 },
 "nbformat": 4,
 "nbformat_minor": 5
}
